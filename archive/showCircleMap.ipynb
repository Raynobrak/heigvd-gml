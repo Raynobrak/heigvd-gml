{
 "cells": [
  {
   "cell_type": "code",
   "execution_count": 1,
   "id": "1630df3a",
   "metadata": {},
   "outputs": [],
   "source": [
    "#Lecture du fichier xlsx\n",
    "import pandas as pd\n",
    "df_berce = pd.read_excel('./data/berce_du_caucase.xlsx')\n",
    "\n",
    "#On garde uniquement les colonnes latitudes, longitude, altitude et date\n",
    "df_berce = df_berce[['decimalLatitude', 'decimalLongitude', 'elevation', 'year']]\n",
    "\n",
    "#On renomme les colonnes\n",
    "df_berce.columns = ['latitude', 'longitude', 'elevation', 'year']"
   ]
  },
  {
   "cell_type": "code",
   "execution_count": 2,
   "id": "ae9c5127",
   "metadata": {},
   "outputs": [
    {
     "name": "stdout",
     "output_type": "stream",
     "text": [
      "Informations sur les données :\n",
      "           latitude     longitude     elevation          year\n",
      "count  26611.000000  26611.000000  26520.000000  26611.000000\n",
      "mean      46.922634      8.874740    933.140534   2013.522190\n",
      "std        0.393800      0.919174    429.296405      5.874152\n",
      "min       45.841650      5.998320    160.000000   1899.000000\n",
      "25%       46.694550      8.484920    525.500000   2010.000000\n",
      "50%       46.842020      8.911090    891.000000   2014.000000\n",
      "75%       47.313270      9.671630   1311.750000   2018.000000\n",
      "max       47.762260     10.462660   2662.000000   2024.000000\n",
      "\n",
      "Nombre de valeurs manquantes dans chaque colonne :\n",
      "latitude      0\n",
      "longitude     0\n",
      "elevation    91\n",
      "year          0\n",
      "dtype: int64\n"
     ]
    }
   ],
   "source": [
    "def data_infos(dataframe):\n",
    "    #Infos sur les données\n",
    "    print(\"Informations sur les données :\")\n",
    "    print(dataframe.describe())\n",
    "    print()\n",
    "\n",
    "    #Compte des valeurs manquantes dans chaque colonne\n",
    "    print(\"Nombre de valeurs manquantes dans chaque colonne :\")\n",
    "    print(dataframe.isnull().sum())\n",
    "\n",
    "data_infos(df_berce)"
   ]
  },
  {
   "cell_type": "code",
   "execution_count": 3,
   "id": "3fd15a56",
   "metadata": {},
   "outputs": [],
   "source": [
    "#Remove des lignes avec des valeurs manquantes\n",
    "df_berce = df_berce.dropna()\n",
    "\n",
    "#Remove des lignes en dessous de l'année 2000\n",
    "df_berce = df_berce[df_berce.year >= 2000]"
   ]
  },
  {
   "cell_type": "code",
   "execution_count": 4,
   "id": "970eb8e2",
   "metadata": {},
   "outputs": [
    {
     "name": "stdout",
     "output_type": "stream",
     "text": [
      "Informations sur les données :\n",
      "           latitude     longitude     elevation          year\n",
      "count  26130.000000  26130.000000  26130.000000  26130.000000\n",
      "mean      46.919113      8.889818    938.546325   2013.816762\n",
      "std        0.392547      0.912334    429.181194      5.124186\n",
      "min       45.841650      5.998320    160.000000   2000.000000\n",
      "25%       46.691370      8.488336    528.500000   2010.000000\n",
      "50%       46.841070      8.921310    896.000000   2014.000000\n",
      "75%       47.308005      9.673700   1320.000000   2018.000000\n",
      "max       47.762260     10.462660   2662.000000   2024.000000\n",
      "\n",
      "Nombre de valeurs manquantes dans chaque colonne :\n",
      "latitude     0\n",
      "longitude    0\n",
      "elevation    0\n",
      "year         0\n",
      "dtype: int64\n"
     ]
    }
   ],
   "source": [
    "data_infos(df_berce)"
   ]
  },
  {
   "cell_type": "code",
   "execution_count": 5,
   "id": "b046a891",
   "metadata": {},
   "outputs": [
    {
     "name": "stdout",
     "output_type": "stream",
     "text": [
      "Nombre de doublons :\n",
      "5728\n",
      "Doublons :\n",
      "       latitude  longitude  elevation  year\n",
      "699    47.33943    8.74862      523.0  2002\n",
      "740    46.33842    6.97108     1178.5  2003\n",
      "742    46.33842    6.97108     1178.5  2003\n",
      "751    46.26699    7.12734     1955.5  2003\n",
      "755    46.33842    6.97108     1178.5  2003\n",
      "...         ...        ...        ...   ...\n",
      "26505  46.77632    9.16269      728.0  2023\n",
      "26507  46.07851    7.07961      604.5  2023\n",
      "26518  47.06640    8.36786      500.0  2023\n",
      "26535  46.14728    7.02849      458.0  2023\n",
      "26537  47.50028    8.19727      377.0  2023\n",
      "\n",
      "[5728 rows x 4 columns]\n"
     ]
    }
   ],
   "source": [
    "#Compte et affichage des doublons\n",
    "print(\"Nombre de doublons :\")\n",
    "print(df_berce.duplicated().sum())\n",
    "\n",
    "#Affichage des doublons\n",
    "print(\"Doublons :\")\n",
    "print(df_berce[df_berce.duplicated()])"
   ]
  },
  {
   "cell_type": "code",
   "execution_count": 6,
   "id": "c92d0d54",
   "metadata": {},
   "outputs": [
    {
     "data": {
      "application/vnd.jupyter.widget-view+json": {
       "model_id": "28abefc1882c4296a5d7b70eafab67ce",
       "version_major": 2,
       "version_minor": 0
      },
      "text/plain": [
       "interactive(children=(IntSlider(value=2000, description='selected_year', max=2024, min=2000), Output()), _dom_…"
      ]
     },
     "metadata": {},
     "output_type": "display_data"
    },
    {
     "data": {
      "application/vnd.jupyter.widget-view+json": {
       "model_id": "351e11d7ac954d0eb163c3fceb615133",
       "version_major": 2,
       "version_minor": 0
      },
      "text/plain": [
       "Output()"
      ]
     },
     "execution_count": 6,
     "metadata": {},
     "output_type": "execute_result"
    }
   ],
   "source": [
    "import pandas as pd\n",
    "import folium\n",
    "import random\n",
    "from ipywidgets import interact, IntSlider, Output\n",
    "\n",
    "# Fonction pour générer une couleur aléatoire\n",
    "def random_color():\n",
    "    return f'#{random.randint(0, 255):02x}{random.randint(0, 255):02x}{random.randint(0, 255):02x}'\n",
    "\n",
    "# Créer un widget Output pour afficher la carte\n",
    "output = Output()\n",
    "\n",
    "# Fonction pour mettre à jour la carte en fonction de l'année sélectionnée\n",
    "def update_map(selected_year):\n",
    "    # Effacer la carte\n",
    "    m = folium.Map(location=[46.8182, 8.2275], zoom_start=8)\n",
    "\n",
    "    # Filtrer les données en fonction de l'année sélectionnée\n",
    "    filtered_data = df_berce[df_berce['year'] == selected_year]\n",
    "\n",
    "    # Ajouter des cercles pour chaque point filtré\n",
    "    for index, row in filtered_data.iterrows():\n",
    "        folium.Circle(\n",
    "            location=(row['latitude'], row['longitude']),\n",
    "            radius=4000,\n",
    "            color='transparent',\n",
    "            fill=True,\n",
    "            fill_color=random_color(),\n",
    "            fill_opacity=0.5,\n",
    "            popup=f\"Élévation: {row['elevation']} m, Année: {row['year']}\"\n",
    "        ).add_to(m)\n",
    "\n",
    "    # Afficher la carte mise à jour\n",
    "    with output:\n",
    "        output.clear_output(wait=True)\n",
    "        display(m)\n",
    "\n",
    "# Créer un slider pour la sélection des années\n",
    "year_slider = IntSlider(min=df_berce['year'].min(), max=df_berce['year'].max(), step=1, value=df_berce['year'].min())\n",
    "interact(update_map, selected_year=year_slider)\n",
    "\n",
    "# Afficher la carte initiale avec la première année\n",
    "update_map(df_berce['year'].min())  # Afficher les points de la première année au départ\n",
    "output\n"
   ]
  }
 ],
 "metadata": {
  "kernelspec": {
   "display_name": ".venv",
   "language": "python",
   "name": "python3"
  },
  "language_info": {
   "codemirror_mode": {
    "name": "ipython",
    "version": 3
   },
   "file_extension": ".py",
   "mimetype": "text/x-python",
   "name": "python",
   "nbconvert_exporter": "python",
   "pygments_lexer": "ipython3",
   "version": "3.12.3"
  },
  "papermill": {
   "default_parameters": {},
   "duration": 17.111478,
   "end_time": "2023-10-24T16:46:15.822039",
   "environment_variables": {},
   "exception": null,
   "input_path": "__notebook__.ipynb",
   "output_path": "__notebook__.ipynb",
   "parameters": {},
   "start_time": "2023-10-24T16:45:58.710561",
   "version": "2.4.0"
  }
 },
 "nbformat": 4,
 "nbformat_minor": 5
}

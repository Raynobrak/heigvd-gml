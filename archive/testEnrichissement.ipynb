{
 "cells": [
  {
   "cell_type": "code",
   "execution_count": 4,
   "id": "dc353ada",
   "metadata": {},
   "outputs": [],
   "source": [
    "#pip install srtm.py osmnx"
   ]
  },
  {
   "cell_type": "code",
   "execution_count": 5,
   "id": "66d44600",
   "metadata": {},
   "outputs": [],
   "source": [
    "import pandas as pd\n",
    "import srtm  # Pour obtenir l'altitude\n",
    "import osmnx as ox\n",
    "\n",
    "\n",
    "# Charger les données SRTM pour obtenir les élévations\n",
    "elevation_data = srtm.get_data()\n",
    "\n",
    "# Fonction pour obtenir l'altitude à partir de SRTM\n",
    "def get_elevation(lat, lon):\n",
    "    elevation = elevation_data.get_elevation(lat, lon)\n",
    "    if elevation is not None:\n",
    "        return elevation\n",
    "    else:\n",
    "        return 'N/A'\n",
    "\n",
    "# Fonction pour obtenir le type de lieu (ville, forêt, etc.) en interrogeant OSM localement\n",
    "def get_topology(lat, lon):\n",
    "    try:\n",
    "        point = (lat, lon)\n",
    "        tags = ox.geometries_from_point(point, tags={'landuse': True, 'natural': True})\n",
    "        if not tags.empty:\n",
    "            landuse = tags['landuse'].dropna().unique()\n",
    "            return landuse\n",
    "        else:\n",
    "            return 'Inconnu'\n",
    "    except Exception as e:\n",
    "        return f'Erreur: {str(e)}'"
   ]
  },
  {
   "cell_type": "code",
   "execution_count": 6,
   "id": "dd231bc6",
   "metadata": {},
   "outputs": [
    {
     "name": "stdout",
     "output_type": "stream",
     "text": [
      "3223\n"
     ]
    }
   ],
   "source": [
    "print(get_elevation(46.00272,7.55283))"
   ]
  },
  {
   "cell_type": "code",
   "execution_count": 7,
   "id": "53f21722",
   "metadata": {},
   "outputs": [
    {
     "name": "stdout",
     "output_type": "stream",
     "text": [
      "['forest' 'meadow' 'farmyard']\n"
     ]
    },
    {
     "name": "stderr",
     "output_type": "stream",
     "text": [
      "C:\\Users\\remia\\AppData\\Local\\Temp\\ipykernel_3288\\1818055520.py:21: FutureWarning: The `geometries` module and `geometries_from_X` functions have been renamed the `features` module and `features_from_X` functions. Use these instead. The `geometries` module and function names are deprecated and will be removed in the v2.0.0 release. See the OSMnx v2 migration guide: https://github.com/gboeing/osmnx/issues/1123\n",
      "  tags = ox.geometries_from_point(point, tags={'landuse': True, 'natural': True})\n"
     ]
    }
   ],
   "source": [
    "print(get_topology(47.00072,7.83545))"
   ]
  },
  {
   "cell_type": "code",
   "execution_count": 17,
   "id": "20131268",
   "metadata": {},
   "outputs": [
    {
     "name": "stdout",
     "output_type": "stream",
     "text": [
      "(10000, 2)\n"
     ]
    },
    {
     "data": {
      "text/html": [
       "<div>\n",
       "<style scoped>\n",
       "    .dataframe tbody tr th:only-of-type {\n",
       "        vertical-align: middle;\n",
       "    }\n",
       "\n",
       "    .dataframe tbody tr th {\n",
       "        vertical-align: top;\n",
       "    }\n",
       "\n",
       "    .dataframe thead th {\n",
       "        text-align: right;\n",
       "    }\n",
       "</style>\n",
       "<table border=\"1\" class=\"dataframe\">\n",
       "  <thead>\n",
       "    <tr style=\"text-align: right;\">\n",
       "      <th></th>\n",
       "      <th>point</th>\n",
       "      <th>elevation</th>\n",
       "    </tr>\n",
       "  </thead>\n",
       "  <tbody>\n",
       "    <tr>\n",
       "      <th>0</th>\n",
       "      <td>(46.82204197278867, 7.702755185998827)</td>\n",
       "      <td>972</td>\n",
       "    </tr>\n",
       "    <tr>\n",
       "      <th>1</th>\n",
       "      <td>(46.03537670149179, 7.5456569657789)</td>\n",
       "      <td>2366</td>\n",
       "    </tr>\n",
       "    <tr>\n",
       "      <th>2</th>\n",
       "      <td>(46.39954799948106, 7.688810646158019)</td>\n",
       "      <td>2413</td>\n",
       "    </tr>\n",
       "    <tr>\n",
       "      <th>3</th>\n",
       "      <td>(46.89773749694201, 7.8897341406802735)</td>\n",
       "      <td>853</td>\n",
       "    </tr>\n",
       "    <tr>\n",
       "      <th>4</th>\n",
       "      <td>(46.436814241264386, 7.588317956344438)</td>\n",
       "      <td>2388</td>\n",
       "    </tr>\n",
       "  </tbody>\n",
       "</table>\n",
       "</div>"
      ],
      "text/plain": [
       "                                     point elevation\n",
       "0   (46.82204197278867, 7.702755185998827)       972\n",
       "1     (46.03537670149179, 7.5456569657789)      2366\n",
       "2   (46.39954799948106, 7.688810646158019)      2413\n",
       "3  (46.89773749694201, 7.8897341406802735)       853\n",
       "4  (46.436814241264386, 7.588317956344438)      2388"
      ]
     },
     "execution_count": 17,
     "metadata": {},
     "output_type": "execute_result"
    }
   ],
   "source": [
    "#Test de la fonction get_elevation sur 10'000 points aléatoires\n",
    "import random\n",
    "\n",
    "# Générer des points aléatoires\n",
    "points = [(random.uniform(46.0, 47.0), random.uniform(7.5, 8.0)) for _ in range(10000)]\n",
    "\n",
    "# Obtenir les élévations pour chaque point\n",
    "elevations = [get_elevation(lat, lon) for lat, lon in points]\n",
    "\n",
    "# Créer un DataFrame pour stocker les points et les élévations\n",
    "df = pd.DataFrame({'point': points, 'elevation': elevations})\n",
    "\n",
    "print(df.shape)\n",
    "df.head()\n"
   ]
  },
  {
   "cell_type": "code",
   "execution_count": null,
   "id": "b74c603f",
   "metadata": {},
   "outputs": [],
   "source": []
  }
 ],
 "metadata": {
  "kernelspec": {
   "display_name": ".venv",
   "language": "python",
   "name": "python3"
  },
  "language_info": {
   "codemirror_mode": {
    "name": "ipython",
    "version": 3
   },
   "file_extension": ".py",
   "mimetype": "text/x-python",
   "name": "python",
   "nbconvert_exporter": "python",
   "pygments_lexer": "ipython3",
   "version": "3.12.3"
  },
  "papermill": {
   "default_parameters": {},
   "duration": 17.111478,
   "end_time": "2023-10-24T16:46:15.822039",
   "environment_variables": {},
   "exception": null,
   "input_path": "__notebook__.ipynb",
   "output_path": "__notebook__.ipynb",
   "parameters": {},
   "start_time": "2023-10-24T16:45:58.710561",
   "version": "2.4.0"
  }
 },
 "nbformat": 4,
 "nbformat_minor": 5
}

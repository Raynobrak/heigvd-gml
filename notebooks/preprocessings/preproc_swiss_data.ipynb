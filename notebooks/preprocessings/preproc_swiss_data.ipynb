{
 "cells": [
  {
   "cell_type": "markdown",
   "id": "a965683f-354f-443e-8fdd-e1ffb43334cc",
   "metadata": {},
   "source": [
    "# Préparation des données\n",
    "Ce notebook sert à la préparation des données qui seront utilisée plus tard dans le projet. \n",
    "\n",
    "Les données proviennent des différents jeux de données disponibles sur GeoAdmin et qui ont été téléchargés en local. Dans chaque section de ce notebook, un lien est disponible pour la récupération des données utilisées, en cas de besoin.    \n",
    "\n",
    "GeoAdmin propose une API, ainsi que la [documentation](https://api3.geo.admin.ch/index.html) associée, à travers laquelle l'ensemble des données est disponible. Cependant, nous ne pouvont pas l'utiliser dans le cadre de notre projet, les requêtes étant limitées à 20 par minutes, comme stipulé dans les [conditions d'utilisations](https://www.geo.admin.ch/fr/conditions-generales-utilisation-ifdg). En effet, cela prendrait alors beaucoup trop de temps pour enchirir l'ensemble de notre jeu de données.\n",
    "\n",
    "Nous allons ici nous concentrer sur la Suisse entière. Nous allons créer une grille, afin de séparer la Suisse en un ensemble de zone plus faciles à traiter que les formes géométriques utilisées dans les données de GeoAdmin. Le choix a été fait de prendre des carrés, d'une taille de 1km de côté. Cette valeur pourra être modifiée par la suite, en cas de besoin.\n",
    "\n",
    "A noter que ces jeux de données utilisent un système de coordonnées [géodésiques](https://fr.wikipedia.org/wiki/G%C3%A9od%C3%A9sique), à savoir le format EPSG:2056 ([LV95](https://fr.wikipedia.org/wiki/Syst%C3%A8me_de_coordonn%C3%A9es_g%C3%A9ographiques_suisse#MN95))."
   ]
  },
  {
   "cell_type": "code",
   "execution_count": 1,
   "id": "7dadd2d4-da82-4c6d-ada5-098a6843a267",
   "metadata": {},
   "outputs": [],
   "source": [
    "# Imports nécessaires pour ce notebook\n",
    "import fiona\n",
    "import pandas as pd\n",
    "import geopandas as gpd\n",
    "import matplotlib.pyplot as plt\n",
    "import pyproj\n",
    "import rasterio\n",
    "from rasterio.plot import show\n",
    "import rioxarray\n",
    "from shapely import Polygon\n",
    "from shapely.geometry import Point, MultiPolygon, Polygon\n",
    "import os"
   ]
  },
  {
   "cell_type": "markdown",
   "id": "df45a2dd-3f9b-474b-abfd-b1a98a48125a",
   "metadata": {},
   "source": [
    "## Utilisation des fichiers geodatabase\n",
    "\n",
    "GeoAdmin propose une partie de ses données sous le format gdb, des geodatabase.\n",
    "Cette section est là purement à but d'aide à la compréhension sur le fonctionnement de ces fichiers. Les fonctions créées ci-dessous sont réutilisées dans les sections suivantes, afin de permettre de voir ce qui est contenu dans les différents fichiers.\n",
    "\n",
    "La première étape pour l'utilisation des fichiers gdb est de lister les différentes couches disponibles, afin d'identifier celle qui nous intéresse."
   ]
  },
  {
   "cell_type": "code",
   "execution_count": 2,
   "id": "c0522aab-882d-4520-8de7-3b4569cab053",
   "metadata": {},
   "outputs": [],
   "source": [
    "def list_available_layers(gdb_path, to_print = True):\n",
    "    layers = fiona.listlayers(gdb_path)\n",
    "\n",
    "    if to_print :\n",
    "        print(f\"Couches disponibles : {layers}\")\n",
    "\n",
    "    return layers"
   ]
  },
  {
   "cell_type": "markdown",
   "id": "020385f0-cc1b-4513-8a40-2101edd4b521",
   "metadata": {},
   "source": [
    "Une fois les couches connues et celles pertinentes identifiées, les données peuvent être extraites des fichiers. En fonction de la taille du fichier, il peut être intéressant de n'avait que les colonnes intéressantes. La fonction ci-dessous permet la récupération du nom des différentes colonnes présentes dans une couche donnée d'un fichier gdb. Ces fichiers contiennent toujours une colonne `geometry`, qui contient un Polygon de la zone."
   ]
  },
  {
   "cell_type": "code",
   "execution_count": 3,
   "id": "00667a7f-fc1d-4293-a88e-a89d96e00867",
   "metadata": {},
   "outputs": [],
   "source": [
    "def list_columns(gdb_path, selected_layer, to_print = True):\n",
    "    # Lecture de la 1ère ligne du fichier pour la couche souhaitée\n",
    "    gdf = gpd.read_file(gdb_path, layer=selected_layer, rows=1)\n",
    "\n",
    "    columns = []\n",
    "    if not gdf.empty:\n",
    "        columns = gdf.columns\n",
    "\n",
    "        if to_print :\n",
    "            print(f\"Colonnes disponibles : {columns.tolist()}\")\n",
    "\n",
    "    return columns"
   ]
  },
  {
   "cell_type": "markdown",
   "id": "ec51a252-2ef9-4627-ae10-216cf426e0e2",
   "metadata": {},
   "source": [
    "La lecture des fichiers se fait ensuite à l'aide de la fonction `read_file` de `geopandas`, comme cela est fait dans la fonction ci-dessus. Plusieurs paramètres permettent une sélection des attributs ou une zone définie de l'espace à prendre en compte. La documentation de cette fonction est disponible à ce [lien](https://geopandas.org/en/stable/docs/reference/api/geopandas.read_file.html). Le résultat peut ensuite être traité de la même manière que les Dataframe normaux."
   ]
  },
  {
   "cell_type": "markdown",
   "id": "df25a3bc-eec1-4b8a-9982-127f48901410",
   "metadata": {},
   "source": [
    "## Séparation de la Suisse en cellules\n",
    "Afin de faciliter la représentation de la distribution du néophyte dans le pays, il a été décidé de travailler avec une grille. Comme expliqué plus haut, le pays a été séparé en un ensemble de carrés, d'une taille de 1km de côté.\n",
    "\n",
    "La fonction suivante va permettre de faire cela et retournera la grille sous la forme d'une liste de `Polygon`, qui sont nos carrés. De cette amnière, il nous sera plus facile d'utiliser la représentation pixelisée de la Suisse."
   ]
  },
  {
   "cell_type": "code",
   "execution_count": 4,
   "id": "d4747941-cb7e-418b-a5cc-a1d13ce4fc91",
   "metadata": {},
   "outputs": [],
   "source": [
    "# Constantes pour la création de la grille recouvrant la Suisse\n",
    "swiss_xmin = 2485071.58\n",
    "swiss_ymin = 1074261.72\n",
    "swiss_xmax = 2837119.8\n",
    "swiss_ymax = 1299941.79\n",
    "swiss_cell_size = 1_000"
   ]
  },
  {
   "cell_type": "code",
   "execution_count": 5,
   "id": "5cc3d770-d71a-4b2c-9ed4-857268e29228",
   "metadata": {},
   "outputs": [],
   "source": [
    "def create_grid(xmin, ymin, xmax, ymax, cell_size):\n",
    "    width = xmax - xmin\n",
    "    height = ymax - ymin\n",
    "    rows = int(height // cell_size) + 1\n",
    "    cols = int(width // cell_size) + 1\n",
    "    \n",
    "    grid = []\n",
    "    for i in range(cols):\n",
    "        for j in range(rows):\n",
    "            x0 = xmin + i * cell_size\n",
    "            y0 = ymin + j * cell_size\n",
    "            x1 = x0 + cell_size\n",
    "            y1 = y0 + cell_size\n",
    "            grid.append(Polygon([(x0, y0), (x1, y0), (x1, y1), (x0, y1)]))\n",
    "            \n",
    "    return grid"
   ]
  },
  {
   "cell_type": "markdown",
   "id": "cc47380e-ad0d-42dc-8c5f-30239312e242",
   "metadata": {},
   "source": [
    "Ne pouvant pas faire une grille uniquement sur la surface de la Suisse, la grille créée ci-dessus couvre donc également une partie des pays limitrophes. Une fois combinée avec les données collectée sur notre pays, il sera alors possible de n'utiliser que les cellules contenant des données et d'abandonner celles ne faisant pas partie du pays."
   ]
  },
  {
   "cell_type": "markdown",
   "id": "c7bad5b0-63d1-45ea-bf51-b33d67baef10",
   "metadata": {},
   "source": [
    "## Préparation des données\n",
    "Dans cette section, nous allons préparer puis stocker les données qui seront utilisées, avant de les fusionner en un unique fichier plus tard."
   ]
  },
  {
   "cell_type": "markdown",
   "id": "d08d9d7d-f0d3-4dea-9020-30e2d1dbf2ab",
   "metadata": {},
   "source": [
    "Les fonctions ci-dessous permettre un traitement plus facile des données provenant de geo database."
   ]
  },
  {
   "cell_type": "code",
   "execution_count": 6,
   "id": "da6ca58c-499e-4f9d-a850-54d9fc09f20b",
   "metadata": {},
   "outputs": [],
   "source": [
    "def preproc_soil_aptitudes(row):\n",
    "    # Changement de la valeur inconnue, pour une meilleure utilisation des catégories plus tard\n",
    "    row['WASSERSPEI'] = ( 0.0 if float(str(row['WASSERSPEI'])) < 0.0 else row['WASSERSPEI'])\n",
    "    row['NAHRSTOFF'] = ( 0.0 if float(str(row['NAHRSTOFF'])) < 0.0 else row['NAHRSTOFF'])\n",
    "    row['WASSERDURC'] = ( 0.0 if float(str(row['WASSERDURC'])) < 0.0 else row['WASSERDURC'])\n",
    "    \n",
    "    return row"
   ]
  },
  {
   "cell_type": "code",
   "execution_count": 7,
   "id": "a557b17c-b440-44f6-a1d0-9ce4fcef020e",
   "metadata": {},
   "outputs": [],
   "source": [
    "def preproc_habitat(row):\n",
    "    row['TypoCH_NUM'] = int(str(row['TypoCH_NUM'])[:2])\n",
    "    return row"
   ]
  },
  {
   "cell_type": "code",
   "execution_count": 8,
   "id": "1cefaf16-8bb1-43bf-8975-5a9e53ac5045",
   "metadata": {},
   "outputs": [],
   "source": [
    "def find_dominant_values(df, cell):\n",
    "    \n",
    "    # Vérifie si le DataFrame contient une seule ligne\n",
    "    if len(df) == 1:\n",
    "        return df\n",
    "    \n",
    "    # Calcule l'intersection entre la cellule et les geometry du df\n",
    "    df['intersection_geometry'] = df['geometry'].apply(cell.intersection)\n",
    "    \n",
    "    # Récupère la surface des intersections\n",
    "    df['intersection_area'] = df['intersection_geometry'].apply(lambda geom: geom.area if geom.is_valid else 0)\n",
    "    \n",
    "    # Si le DataFrame contient seulement deux lignes, retourne la ligne avec la plus grande intersection\n",
    "    if len(df) == 2:\n",
    "        dominant_row = df.loc[df['intersection_area'].idxmax()]\n",
    "        return pd.DataFrame([dominant_row.drop(labels=['intersection_geometry', 'intersection_area'])])\n",
    "    \n",
    "    # Fonction pour trouver la valeur dominante pour chaque colonne\n",
    "    def get_dominant_value(col):\n",
    "        grouped = df.groupby(col)['intersection_area'].sum()\n",
    "        return grouped.idxmax()\n",
    "        \n",
    "    # Trouver la valeur dominante pour chaque colonne\n",
    "    dominant_values = {col: get_dominant_value(col) for col in df.columns if col not in ['geometry', 'intersection_geometry', 'intersection_area']}\n",
    "    \n",
    "    # Créer un DataFrame avec les valeurs dominantes\n",
    "    dominant_df = pd.DataFrame([dominant_values])\n",
    "    \n",
    "    return dominant_df"
   ]
  },
  {
   "cell_type": "code",
   "execution_count": 9,
   "id": "c3882ee8-896f-4e87-bf6f-b131a2b9e5f2",
   "metadata": {},
   "outputs": [],
   "source": [
    "def process_gdb(file_config, output_file, \n",
    "                xmin = swiss_xmin, ymin = swiss_ymin, xmax = swiss_xmax, ymax = swiss_ymax, cell_size=swiss_cell_size,\n",
    "                max_df_size=10_000):\n",
    "    \n",
    "    # Créer une grille de carrés\n",
    "    grid = create_grid(xmin, ymin, xmax, ymax, cell_size)\n",
    "    \n",
    "    # DataFrame pour accumuler les résultats\n",
    "    result_df = gpd.GeoDataFrame()\n",
    "    \n",
    "    # Itérer sur chaque cellule de la grille\n",
    "    for idx, cell in enumerate(grid):\n",
    "        # Extraire les limites du rectangle pour le paramètre bbox\n",
    "        bbox = cell.bounds\n",
    "        \n",
    "        paths = file_config['paths']\n",
    "        layer_name = file_config['layer_name']\n",
    "        columns = file_config['columns']\n",
    "        \n",
    "        # Lire seulement les données qui intersectent la cellule actuelle\n",
    "        gdfs = []\n",
    "\n",
    "        # Itérer sur chaque chemin dans 'paths'\n",
    "        for path in paths:\n",
    "            gdf = gpd.read_file(path, layer=layer_name, columns=columns, bbox=bbox)\n",
    "            gdfs.append(gdf)\n",
    "\n",
    "        if len(gdfs) > 0 :\n",
    "            # Concaténer tous les lignes en en un seul\n",
    "            cell_gdf = pd.concat(gdfs, ignore_index=True)\n",
    "        \n",
    "            if not cell_gdf.empty :\n",
    "                cell_gdf = cell_gdf.apply(file_config['preproc_func'], axis=1)\n",
    "                \n",
    "                dominant_values = find_dominant_values(cell_gdf, cell)\n",
    "                dominant_values['idx'] = idx\n",
    "                dominant_values['geometry'] = cell\n",
    "\n",
    "                dominant_values = dominant_values[['idx', 'geometry'] + [col for col in dominant_values.columns if col not in ['idx', 'geometry']]]\n",
    "    \n",
    "                if result_df.empty:\n",
    "                    result_df = dominant_values\n",
    "                else:\n",
    "                    result_df = pd.concat([result_df, dominant_values], ignore_index=True)\n",
    "                \n",
    "                # Sauvegarder si le DataFrame devient trop grand\n",
    "                if len(result_df) >= max_df_size:\n",
    "                    if os.path.exists(output_file):\n",
    "                        result_df.to_csv(output_file, mode='a', header=False, index=False)\n",
    "                    else:\n",
    "                        result_df.to_csv(output_file, index=False)\n",
    "    \n",
    "                    print(f\"Enregistrement du dataframe actuel dans {output_file}\")\n",
    "                    result_df = result_df.head(0)\n",
    "    \n",
    "    # Sauvegarder les données restantes\n",
    "    if not result_df.empty:\n",
    "        if os.path.exists(output_file):\n",
    "            result_df.to_csv(output_file, mode='a', header=False, index=False)\n",
    "        else:\n",
    "            result_df.to_csv(output_file, index=False)\n",
    "\n",
    "    print(f\"Enregistrement terminé dans {output_file}\")\n"
   ]
  },
  {
   "cell_type": "markdown",
   "id": "e4ffa40e-dadf-4699-86e8-ce2bedc1996f",
   "metadata": {},
   "source": [
    "### Aptitudes des sols\n",
    "\n",
    "Différentes propriétés du sol sont disponibles dans la carte des aptitudes du sol fournie par l’Office fédéral de l’agriculture. Les données, ainsi que la documentation officielle associée, sont accessibles au [téléchargement](https://data.geo.admin.ch/browser/index.html#/collections/ch.blw.bodeneignung-wasserdurchlaessigkeit/items/bodeneignung-wasserdurchlaessigkeit) . D'autres liens concernant cette carte, comme l'accès à l'API ou à l'aperçu de la carte sont disponibles sur ce [lien](https://www.geocat.ch/geonetwork/srv/fre/catalog.search#/metadata/d5bd22a3-0656-4582-97bc-37f77b5426ca).\n",
    "\n",
    "Ces données contiennent plusieurs aptitudes différentes des sols, dont seulement certaines nous intéressent. Nous allons nous concentrer sur les caractéristiques suivantes :\n",
    "- `Bodentyp` - Le type de sol\n",
    "- `WASSERSPEI` - Capacité de rétention hydrique\n",
    "- `NAHRSTOFF` - Capacité de rétention en substances nutritives \n",
    "- `WASSERDURC` - Perméabilité\n",
    "\n",
    "Note : Les données étant volumineuses et non ajoutées sur github, il est important de vérifier que les données soient ajoutée au bon endroit et décompressées."
   ]
  },
  {
   "cell_type": "code",
   "execution_count": 10,
   "id": "b84effcf-e93c-46fa-a840-b106c5b1186c",
   "metadata": {},
   "outputs": [],
   "source": [
    "gdb_aptitude_path = \"../../data/raw/Bodeneignungskarte_LV95.gdb\""
   ]
  },
  {
   "cell_type": "code",
   "execution_count": 11,
   "id": "dd76d097-42bc-4a1d-bd26-826a2d59a1e6",
   "metadata": {},
   "outputs": [
    {
     "name": "stdout",
     "output_type": "stream",
     "text": [
      "Couches disponibles : ['Bodeneignungskarte']\n"
     ]
    }
   ],
   "source": [
    "aptitude_layers = list_available_layers(gdb_aptitude_path)"
   ]
  },
  {
   "cell_type": "markdown",
   "id": "66edbe28-acc1-401e-b7d8-4424e28c1cfd",
   "metadata": {},
   "source": [
    "Pour les aptitudes du sol, une unique couche est disponible, nous n'avons donc pas besoin de les analyser pour savoir où se trouvent les données qui nous intéressent."
   ]
  },
  {
   "cell_type": "code",
   "execution_count": 12,
   "id": "8905b60b-f331-4e08-9ced-23d05c1a2ec0",
   "metadata": {},
   "outputs": [
    {
     "name": "stdout",
     "output_type": "stream",
     "text": [
      "Colonnes disponibles : ['AREA', 'PERIMETER', 'BEK200_', 'BEK200_ID', 'INT_CODE', 'CODE', 'Farbe', 'Shape_Leng', 'KU_CODE', 'Eignungsei', 'KULTURLAND', 'Bodentyp', 'GRUNDIGKEI', 'SKELETT', 'WASSERSPEI', 'NAHRSTOFF', 'WASSERDURC', 'VERNASS', 'Shape_Length', 'Shape_Area', 'geometry']\n"
     ]
    }
   ],
   "source": [
    "aptitude_columns = list_columns(gdb_aptitude_path, \"Bodeneignungskarte\")"
   ]
  },
  {
   "cell_type": "markdown",
   "id": "7dbc5632-b9e0-4960-8611-66634035837f",
   "metadata": {},
   "source": [
    "Comme annoncé plus tôt, le jeu de données contient de nombreuses caractéristiques, dont seulement une partie nous intéresse ici. Seules ces colonnes seront donc importées du geodatabase."
   ]
  },
  {
   "cell_type": "code",
   "execution_count": null,
   "id": "4046dda0-7229-4e2d-a3bb-712a076323c0",
   "metadata": {
    "scrolled": true
   },
   "outputs": [],
   "source": [
    "# Définir les chemins et les paramètres\n",
    "output_file_path  = \"../../data/processed/processed_swiss_grid_soil_aptitude.csv\"\n",
    "\n",
    "aptitude_config = {\n",
    "        'paths': ['../../data/raw/Bodeneignungskarte_LV95.gdb'],\n",
    "        'layer_name': 'Bodeneignungskarte',\n",
    "        'columns': ['Bodentyp', 'WASSERSPEI', 'NAHRSTOFF', 'WASSERDURC'],\n",
    "        'preproc_func' : preproc_soil_aptitudes\n",
    "    }\n",
    "\n",
    "# Lancement du traitement\n",
    "process_gdb(aptitude_config, output_file_path)"
   ]
  },
  {
   "cell_type": "markdown",
   "id": "062658ee-84b9-4b40-8787-c0108c952961",
   "metadata": {},
   "source": [
    "### Milieux naturels\n",
    "\n",
    "La Suisse contient plusieurs milieux naturels différents, que l'Office Fédéral de l'environnement met à disposition sur GeoAdmin. Les données sont téléchargeables à ce [lien]().\n",
    "\n",
    "GeoAdmin offre une [description visuelle](https://api3.geo.admin.ch/rest/services/api/MapServer/ch.bafu.lebensraumkarte-schweiz/legend?lang=fr) du jeu de données utilisé pour cette étape. Les données offrent une classification des différents habitats pour chaque zone géographique, avec jusqu'à 3 niveaux de précision. L'ensemble des milieux ne possédant pas 3 niveaux de précision, nous avons décidé de ne prendre en compte que les 2 premiers, afin de garder une séparation plus fine tout en conservant une information homogène."
   ]
  },
  {
   "cell_type": "code",
   "execution_count": 13,
   "id": "ab0bfa96-ec13-48d5-a461-e69b86450e64",
   "metadata": {},
   "outputs": [],
   "source": [
    "gdb_environment_path = \"../../data/raw/HabitatMap_CH_V1_20220805.gdb\""
   ]
  },
  {
   "cell_type": "code",
   "execution_count": 14,
   "id": "3ebef41b-690d-4dfd-ba46-bda4d7fd49f3",
   "metadata": {},
   "outputs": [
    {
     "name": "stdout",
     "output_type": "stream",
     "text": [
      "Couches disponibles : ['HabitatMap_CH_V1_20220805', 'LUT', 'TypoCH_Catalogue', 'Probability_Catalogue']\n"
     ]
    }
   ],
   "source": [
    "environment_layers = list_available_layers(gdb_environment_path)"
   ]
  },
  {
   "cell_type": "markdown",
   "id": "2de86568-f3b2-4eab-a228-ab9d6f06a687",
   "metadata": {},
   "source": [
    "Comme on peut le voir, plusieurs couches sont disponible. Les métadonnées indiquent quelques informations à leurs sujet :\n",
    "- Couche `HabitatMap_CH_V1_20220805` : Couche principale contenant les données sur les milieux naturels\n",
    "- Couche `LUT` : look-up table contenant des informations supplémentaires sur les milieux naturels, donc notament la source de la donnée\n",
    "- Couche `TypoCH_Catalogue` : Catalogue des codes TypoCH afin de comprendre les valeurs présentes dans la couche principale\n",
    "- Couche `Probability_Catalogue` : Catalogue afin de comprendre les valeurs de probabilité présentes dans la couche principale\n",
    "\n",
    "Pour le moment, seule la couche `HabitatMap_CH_V1_20220805` nous est utile."
   ]
  },
  {
   "cell_type": "code",
   "execution_count": 15,
   "id": "d640dddc-1cae-4d3d-aa7c-664d695b92f1",
   "metadata": {},
   "outputs": [
    {
     "name": "stdout",
     "output_type": "stream",
     "text": [
      "Colonnes disponibles : ['TypoCH_NUM', 'Cover', 'POLYID', 'Version', 'Probability', 'TypoCH', 'Shape_Length', 'Shape_Area', 'geometry']\n"
     ]
    }
   ],
   "source": [
    "environment_columns = list_columns(gdb_environment_path, \"HabitatMap_CH_V1_20220805\")"
   ]
  },
  {
   "cell_type": "markdown",
   "id": "9bc147e0-4084-4030-8ed0-b8ca17cfb92e",
   "metadata": {},
   "source": [
    "#### Séparation en plus petits fichiers\n",
    "À cause de l'ampleur du jeu de données et de la complexité des géométries utilisées, il n'est pas possible de charger le jeu de données en une seule fois en mémoire. Afin de pouvoir faire des tests et une recherche plus rapide, il a été décider de séparer le jeu de données en plus petits fichiers, qui seront ensuite traités ensemble."
   ]
  },
  {
   "cell_type": "code",
   "execution_count": null,
   "id": "c95d1198-73d1-40b1-b4ac-6f1bcbcd2d2c",
   "metadata": {},
   "outputs": [],
   "source": [
    "# Définir le nombre d'entrées par fichiers\n",
    "batch_size = 1_000_000\n",
    "\n",
    "# Paramètres pour le fichier à séparer\n",
    "gdb_path = '../../data/raw/HabitatMap_CH_V1_20220805.gdb'\n",
    "layer_name = \"HabitatMap_CH_V1_20220805\"\n",
    "\n",
    "# Emplacement de sauvegarde des fichier séparés\n",
    "output_path = '../../data/raw/splited_HabitatMap'\n",
    "output_filename = 'HabitatMap'\n",
    "\n",
    "# Lecture du nombre total de lignes, en ne prenant qu'un seul attribut pour aller plus vite\n",
    "total_rows = gpd.read_file(gdb_path, layer=layer_name, columns=['TypoCH_NUM'], ignore_geometry=True)\n",
    "\n",
    "# Compteur pour les fichiers de sortie\n",
    "file_counter = 0\n",
    "\n",
    "# Lecture du fichier GDB par morceaux et enregistrement\n",
    "with fiona.open(gdb_path, layer=layer_name) as source:\n",
    "    file_counter += 1\n",
    "    \n",
    "    crs = source.crs\n",
    "    schema = source.schema\n",
    "\n",
    "    # Initialiser une liste pour stocker les features du chunk actuel\n",
    "    features = []\n",
    "\n",
    "    for i, feature in enumerate(source):\n",
    "        features.append(feature)\n",
    "        \n",
    "        # Si on a atteint la taille du batch ou la fin des features\n",
    "        if (i + 1) % batch_size == 0 or (i + 1) == total_rows:\n",
    "\n",
    "            # Créer un GeoDataFrame à partir des features\n",
    "            gdf_chunk = gpd.GeoDataFrame.from_features(features, crs=crs)\n",
    "            \n",
    "            # Définir le chemin de sortie pour ce lot\n",
    "            output_gpkg = os.path.join(output_path, f\"{output_filename}_chunk{file_counter}.gpkg\")\n",
    "            \n",
    "            # Sauvegarder le lot dans un fichier GeoPackage\n",
    "            gdf_chunk.to_file(output_gpkg, layer='HabitatMap_chunk',driver=\"GPKG\")\n",
    "\n",
    "            # Affichage de l'avancement\n",
    "            print(f'Enregistrement de {i} lignes dans le fichier {output_gpkg}') \n",
    "            \n",
    "            # Réinitialiser les features pour le prochain chunk\n",
    "            features = []\n",
    "            \n",
    "\n",
    "print(f\"Data split into {file_counter - 1} GDB files.\")    "
   ]
  },
  {
   "cell_type": "markdown",
   "id": "22a6b927-8da7-48f5-ba59-7c7a4ec52e54",
   "metadata": {},
   "source": [
    "#### Préparation des données\n",
    "Note : Malgré la séparation en plusieurs fichiers pour faciliter l'accès aux données, l'extraction des données de milieux naturel pour notre grille est relativement lent (compter entre 3 et 4 heures). Une optimisation du code serait sans doute possible, mais demanderai de nombreux tests de performances. Malheureusement, faute de temps, nous n'avons rien mis en place pour palier à cela."
   ]
  },
  {
   "cell_type": "code",
   "execution_count": null,
   "id": "29a5d75a-41b8-40f2-b88e-62397b44e12e",
   "metadata": {},
   "outputs": [],
   "source": [
    "# Configuration avec génération dynamique des chemins\n",
    "base_path = '../../data/raw/splited_HabitatMap'\n",
    "file_prefix = 'HabitatMap_chunk'\n",
    "file_extension = '.gpkg'\n",
    "\n",
    "output_file_path  = \"../../data/processed/processed_swiss_grid_environment.csv\"\n",
    "\n",
    "environment_config = {\n",
    "    'paths': [\n",
    "        os.path.join(base_path, f\"{file_prefix}{i}{file_extension}\")\n",
    "        for i in range(1, file_counter + 1)\n",
    "    ],\n",
    "    'layer_name': 'HabitatMap_chunk',\n",
    "    'columns': ['TypoCH_NUM'],\n",
    "    'preproc_func' : preproc_habitat\n",
    "}\n",
    "\n",
    "process_gdb(environment_config, output_file_path)"
   ]
  },
  {
   "cell_type": "markdown",
   "id": "a6b7f71d-d7a8-4964-8d43-4921c463e21d",
   "metadata": {},
   "source": [
    "### Altitude\n",
    "\n",
    "Présente en partie dans nos jeu de données initial, l'altitude est importante afin de mieux modéliser l'environnement de la Suisse. Pour cela, nous avons choisis de prendre l'altitude moyenne pour chacun des pixels de notre grille.\n",
    "\n",
    "Le modèle numérique du terrain MNT25 avec une maille de 200 m est un jeu de données qui décrit la surface terrestre en trois dimensions sans végétation ni constructions et est fournit par l'Office fédéral de topographie. Les données sont téléchargeables sur la [page officielle](https://www.swisstopo.admin.ch/fr/modele-altimetrique-mnt25-200m).    \n",
    "\n",
    "Dans le code ci-dessous, nous avons utilisé la version `.xyz`, car ce format offrait la plus grande flexibilité et facilité d'utilisation à nos yeux.\n",
    "\n",
    "Ce fichier utilisant des coordonnées LV03, nous devons les transformer en coordonnées LV95, avant de pouvoir calculer la moyenne d'altitude par cellule."
   ]
  },
  {
   "cell_type": "code",
   "execution_count": 16,
   "id": "eab79d7e-48a8-47b4-b732-cd7c19f1ca27",
   "metadata": {},
   "outputs": [
    {
     "data": {
      "text/html": [
       "<div>\n",
       "<style scoped>\n",
       "    .dataframe tbody tr th:only-of-type {\n",
       "        vertical-align: middle;\n",
       "    }\n",
       "\n",
       "    .dataframe tbody tr th {\n",
       "        vertical-align: top;\n",
       "    }\n",
       "\n",
       "    .dataframe thead th {\n",
       "        text-align: right;\n",
       "    }\n",
       "</style>\n",
       "<table border=\"1\" class=\"dataframe\">\n",
       "  <thead>\n",
       "    <tr style=\"text-align: right;\">\n",
       "      <th></th>\n",
       "      <th>geometry</th>\n",
       "      <th>altitude</th>\n",
       "    </tr>\n",
       "    <tr>\n",
       "      <th>idx</th>\n",
       "      <th></th>\n",
       "      <th></th>\n",
       "    </tr>\n",
       "  </thead>\n",
       "  <tbody>\n",
       "    <tr>\n",
       "      <th>34</th>\n",
       "      <td>POLYGON ((2485071.58 1108261.72, 2486071.58 11...</td>\n",
       "      <td>410.7500</td>\n",
       "    </tr>\n",
       "    <tr>\n",
       "      <th>35</th>\n",
       "      <td>POLYGON ((2485071.58 1109261.72, 2486071.58 11...</td>\n",
       "      <td>363.5148</td>\n",
       "    </tr>\n",
       "    <tr>\n",
       "      <th>36</th>\n",
       "      <td>POLYGON ((2485071.58 1110261.72, 2486071.58 11...</td>\n",
       "      <td>358.9348</td>\n",
       "    </tr>\n",
       "    <tr>\n",
       "      <th>37</th>\n",
       "      <td>POLYGON ((2485071.58 1111261.72, 2486071.58 11...</td>\n",
       "      <td>387.6868</td>\n",
       "    </tr>\n",
       "    <tr>\n",
       "      <th>38</th>\n",
       "      <td>POLYGON ((2485071.58 1112261.72, 2486071.58 11...</td>\n",
       "      <td>432.2572</td>\n",
       "    </tr>\n",
       "  </tbody>\n",
       "</table>\n",
       "</div>"
      ],
      "text/plain": [
       "                                              geometry  altitude\n",
       "idx                                                             \n",
       "34   POLYGON ((2485071.58 1108261.72, 2486071.58 11...  410.7500\n",
       "35   POLYGON ((2485071.58 1109261.72, 2486071.58 11...  363.5148\n",
       "36   POLYGON ((2485071.58 1110261.72, 2486071.58 11...  358.9348\n",
       "37   POLYGON ((2485071.58 1111261.72, 2486071.58 11...  387.6868\n",
       "38   POLYGON ((2485071.58 1112261.72, 2486071.58 11...  432.2572"
      ]
     },
     "execution_count": 16,
     "metadata": {},
     "output_type": "execute_result"
    }
   ],
   "source": [
    "# Chargement du fichier XYZ\n",
    "xyz_file = '../../data/raw/DHM25_200m/DHM200.xyz'\n",
    "df_altitude = pd.read_csv(xyz_file, sep=r'\\s+', names=['x', 'y', 'altitude'])\n",
    "\n",
    "# Convertion les coordonnées de LV03 à LV95\n",
    "transformer = pyproj.Transformer.from_crs(\"epsg:21781\", \"epsg:2056\", always_xy=True)\n",
    "df_altitude['x_lv95'], df_altitude['y_lv95'] = transformer.transform(df_altitude['x'].values, df_altitude['y'].values)\n",
    "\n",
    "# Convertion en GeoDataFrame avec les coordonnées LV95\n",
    "gdf_points = gpd.GeoDataFrame(df_altitude, geometry=gpd.points_from_xy(df_altitude.x_lv95, df_altitude.y_lv95), crs=\"EPSG:2056\")\n",
    "\n",
    "# Génération de la grille en utilisant la fonction create_grid\n",
    "grid = create_grid(swiss_xmin, swiss_ymin, swiss_xmax, swiss_ymax, swiss_cell_size)\n",
    "gdf_grid = gpd.GeoDataFrame({'geometry': grid}, crs=\"EPSG:2056\")\n",
    "gdf_grid.index.name = \"idx\"\n",
    "\n",
    "# Spatial join des points avec les cellules\n",
    "points_in_polygons = gpd.sjoin(gdf_points, gdf_grid, how='inner', predicate='within')\n",
    "\n",
    "# Calcul de l'altitude moyenne pour chaque cellule et ajout dans le geodataframe\n",
    "mean_altitude = points_in_polygons.groupby('idx').agg({'altitude': 'mean'})\n",
    "gdf_altitude = gdf_grid.merge(mean_altitude, on='idx', how='left')\n",
    "\n",
    "# Filtrer uniquement les polygones qui ont des valeurs calculées\n",
    "gdf_altitude.dropna(subset=['altitude'], inplace=True)\n",
    "\n",
    "gdf_altitude.head()"
   ]
  },
  {
   "cell_type": "code",
   "execution_count": 17,
   "id": "d27436e3-4646-4b6f-b379-0a310a35de46",
   "metadata": {},
   "outputs": [],
   "source": [
    "# Enregistrement des données dans un fichier CSV\n",
    "gdf_altitude.to_csv(\"../../data/processed/processed_swiss_grid_altitude.csv\")"
   ]
  },
  {
   "cell_type": "markdown",
   "id": "11b2ac7d-0808-411b-9a0e-b60fd85c0cce",
   "metadata": {},
   "source": [
    "### Température moyenne annuelle\n",
    "En nous basant sur Google Earth Engine, nous avons pu récupérer des informations concernant les températures moyennes annuelles sur tout le territoire suisse. Le script javascript utilisé pour obtenir les fichiers `.tif` utilisés se trouve dans le dossier `scripts`, sous le nom `terraclimate.js`."
   ]
  },
  {
   "cell_type": "code",
   "execution_count": 18,
   "id": "02ba3084-c481-4989-8176-b20cb3a5e3d0",
   "metadata": {},
   "outputs": [
    {
     "name": "stderr",
     "output_type": "stream",
     "text": [
      "C:\\Users\\Vicky\\anaconda3\\envs\\GML\\Lib\\site-packages\\pyproj\\crs\\_cf1x8.py:515: UserWarning: angle from rectified to skew grid parameter lost in conversion to CF\n",
      "  warnings.warn(\n"
     ]
    },
    {
     "data": {
      "text/html": [
       "<div>\n",
       "<style scoped>\n",
       "    .dataframe tbody tr th:only-of-type {\n",
       "        vertical-align: middle;\n",
       "    }\n",
       "\n",
       "    .dataframe tbody tr th {\n",
       "        vertical-align: top;\n",
       "    }\n",
       "\n",
       "    .dataframe thead th {\n",
       "        text-align: right;\n",
       "    }\n",
       "</style>\n",
       "<table border=\"1\" class=\"dataframe\">\n",
       "  <thead>\n",
       "    <tr style=\"text-align: right;\">\n",
       "      <th></th>\n",
       "      <th>y</th>\n",
       "      <th>x</th>\n",
       "      <th>band</th>\n",
       "      <th>spatial_ref</th>\n",
       "      <th>data</th>\n",
       "      <th>geometry</th>\n",
       "    </tr>\n",
       "  </thead>\n",
       "  <tbody>\n",
       "    <tr>\n",
       "      <th>196</th>\n",
       "      <td>1299500.0</td>\n",
       "      <td>2681500.0</td>\n",
       "      <td>1</td>\n",
       "      <td>0</td>\n",
       "      <td>1.5</td>\n",
       "      <td>POINT (2681500 1299500)</td>\n",
       "    </tr>\n",
       "    <tr>\n",
       "      <th>197</th>\n",
       "      <td>1299500.0</td>\n",
       "      <td>2682500.0</td>\n",
       "      <td>1</td>\n",
       "      <td>0</td>\n",
       "      <td>1.5</td>\n",
       "      <td>POINT (2682500 1299500)</td>\n",
       "    </tr>\n",
       "    <tr>\n",
       "      <th>198</th>\n",
       "      <td>1299500.0</td>\n",
       "      <td>2683500.0</td>\n",
       "      <td>1</td>\n",
       "      <td>0</td>\n",
       "      <td>1.5</td>\n",
       "      <td>POINT (2683500 1299500)</td>\n",
       "    </tr>\n",
       "    <tr>\n",
       "      <th>199</th>\n",
       "      <td>1299500.0</td>\n",
       "      <td>2684500.0</td>\n",
       "      <td>1</td>\n",
       "      <td>0</td>\n",
       "      <td>1.5</td>\n",
       "      <td>POINT (2684500 1299500)</td>\n",
       "    </tr>\n",
       "    <tr>\n",
       "      <th>200</th>\n",
       "      <td>1299500.0</td>\n",
       "      <td>2685500.0</td>\n",
       "      <td>1</td>\n",
       "      <td>0</td>\n",
       "      <td>1.5</td>\n",
       "      <td>POINT (2685500 1299500)</td>\n",
       "    </tr>\n",
       "  </tbody>\n",
       "</table>\n",
       "</div>"
      ],
      "text/plain": [
       "             y          x  band  spatial_ref  data                 geometry\n",
       "196  1299500.0  2681500.0     1            0   1.5  POINT (2681500 1299500)\n",
       "197  1299500.0  2682500.0     1            0   1.5  POINT (2682500 1299500)\n",
       "198  1299500.0  2683500.0     1            0   1.5  POINT (2683500 1299500)\n",
       "199  1299500.0  2684500.0     1            0   1.5  POINT (2684500 1299500)\n",
       "200  1299500.0  2685500.0     1            0   1.5  POINT (2685500 1299500)"
      ]
     },
     "execution_count": 18,
     "metadata": {},
     "output_type": "execute_result"
    }
   ],
   "source": [
    "mean_temp_data_riox = rioxarray.open_rasterio('../../data/raw/geo_tiffs/annual_mean_temperature_switzerland_bigger.tif')\n",
    "mean_temp_data_riox.name = \"data\"\n",
    "df = mean_temp_data_riox.squeeze().to_dataframe().reset_index()\n",
    "geometry = gpd.points_from_xy(df.x, df.y)\n",
    "mean_temp_data_gpd = gpd.GeoDataFrame(df, crs=mean_temp_data_riox.rio.crs, geometry=geometry)\n",
    "\n",
    "# Suppression des entrées sans valeurs\n",
    "mean_temp_data_gpd.dropna(inplace=True)\n",
    "\n",
    "mean_temp_data_gpd.head()"
   ]
  },
  {
   "cell_type": "markdown",
   "id": "3a8724cc-ee78-434d-bfa0-9d087745a3b8",
   "metadata": {},
   "source": [
    "Le geodataframe utilisant actuellement des points, nous allons modifier cela afin de travailler avec les cellules de la grille, comme pour les autres jeux de données. De cette manière, la fusion des jeux de données pourra se faire de manière plus homogène."
   ]
  },
  {
   "cell_type": "code",
   "execution_count": 19,
   "id": "45cb1428-c8c4-4809-8351-92e6cda2c3ee",
   "metadata": {},
   "outputs": [
    {
     "data": {
      "text/html": [
       "<div>\n",
       "<style scoped>\n",
       "    .dataframe tbody tr th:only-of-type {\n",
       "        vertical-align: middle;\n",
       "    }\n",
       "\n",
       "    .dataframe tbody tr th {\n",
       "        vertical-align: top;\n",
       "    }\n",
       "\n",
       "    .dataframe thead th {\n",
       "        text-align: right;\n",
       "    }\n",
       "</style>\n",
       "<table border=\"1\" class=\"dataframe\">\n",
       "  <thead>\n",
       "    <tr style=\"text-align: right;\">\n",
       "      <th></th>\n",
       "      <th>geometry</th>\n",
       "      <th>temperature</th>\n",
       "    </tr>\n",
       "    <tr>\n",
       "      <th>idx</th>\n",
       "      <th></th>\n",
       "      <th></th>\n",
       "    </tr>\n",
       "  </thead>\n",
       "  <tbody>\n",
       "    <tr>\n",
       "      <th>33</th>\n",
       "      <td>POLYGON ((2485071.58 1107261.72, 2486071.58 11...</td>\n",
       "      <td>5.0</td>\n",
       "    </tr>\n",
       "    <tr>\n",
       "      <th>34</th>\n",
       "      <td>POLYGON ((2485071.58 1108261.72, 2486071.58 11...</td>\n",
       "      <td>5.1</td>\n",
       "    </tr>\n",
       "    <tr>\n",
       "      <th>35</th>\n",
       "      <td>POLYGON ((2485071.58 1109261.72, 2486071.58 11...</td>\n",
       "      <td>5.2</td>\n",
       "    </tr>\n",
       "    <tr>\n",
       "      <th>36</th>\n",
       "      <td>POLYGON ((2485071.58 1110261.72, 2486071.58 11...</td>\n",
       "      <td>5.2</td>\n",
       "    </tr>\n",
       "    <tr>\n",
       "      <th>37</th>\n",
       "      <td>POLYGON ((2485071.58 1111261.72, 2486071.58 11...</td>\n",
       "      <td>5.2</td>\n",
       "    </tr>\n",
       "  </tbody>\n",
       "</table>\n",
       "</div>"
      ],
      "text/plain": [
       "                                              geometry  temperature\n",
       "idx                                                                \n",
       "33   POLYGON ((2485071.58 1107261.72, 2486071.58 11...          5.0\n",
       "34   POLYGON ((2485071.58 1108261.72, 2486071.58 11...          5.1\n",
       "35   POLYGON ((2485071.58 1109261.72, 2486071.58 11...          5.2\n",
       "36   POLYGON ((2485071.58 1110261.72, 2486071.58 11...          5.2\n",
       "37   POLYGON ((2485071.58 1111261.72, 2486071.58 11...          5.2"
      ]
     },
     "execution_count": 19,
     "metadata": {},
     "output_type": "execute_result"
    }
   ],
   "source": [
    "# Création de la grille\n",
    "grid = create_grid(swiss_xmin, swiss_ymin, swiss_xmax, swiss_ymax, swiss_cell_size)\n",
    "\n",
    "# Convertir la grille en GeoDataFrame\n",
    "grid_gdf = gpd.GeoDataFrame({'geometry': grid}, crs=mean_temp_data_riox.rio.crs)\n",
    "\n",
    "# Joindre les valeurs des deux dataframe\n",
    "joined = gpd.sjoin(grid_gdf, mean_temp_data_gpd, how=\"left\", predicate=\"contains\")\n",
    "\n",
    "# Supprimer les entrées sans valeur de température\n",
    "joined.dropna(subset=['data'], inplace=True)\n",
    "\n",
    "# Ne conserver que les colonnes utiles\n",
    "joined = joined[['geometry', 'data']]\n",
    "\n",
    "# Renommage des colonnes\n",
    "joined.rename(columns={\"data\": \"temperature\"}, inplace=True)\n",
    "joined.index.name = 'idx'\n",
    "\n",
    "joined.head()"
   ]
  },
  {
   "cell_type": "code",
   "execution_count": 20,
   "id": "166dbd51-dc28-4fac-a159-1e891ea4610b",
   "metadata": {},
   "outputs": [],
   "source": [
    "# Enregistrement des données dans un fichier CSV\n",
    "joined.to_csv(\"../../data/processed/processed_swiss_grid_temperature.csv\")"
   ]
  },
  {
   "cell_type": "markdown",
   "id": "d3fe3501-31ef-4686-b9bc-5ffaceb54af7",
   "metadata": {},
   "source": [
    "## Fusion des jeux de données\n",
    "Maintenant que toutes nos données ont séparées sous forme de cellules de 1km de côté, nous pouvons les joindre en un unique jeu de données. Pour nous aider à cela plusieurs fonctions ont été crées.\n",
    "\n",
    "Les données fusionnées ne sont cependant pas exemptes d'erreurs et une analyse exploratoire a été effectuées sur les entrées possédant des valeurs manquantes. L'ensemble des graphiques générés pour leur traitement, ainsi que quelques commentaires, sont disponibles dans le notebook associé, `eda_missing_swiss_data_merged`."
   ]
  },
  {
   "cell_type": "code",
   "execution_count": 21,
   "id": "e3b21fa3-7812-4a4d-93cf-6a86e750b354",
   "metadata": {},
   "outputs": [],
   "source": [
    "def load_geodataframes(file_paths):\n",
    "    \"\"\"Charge plusieurs fichiers CSV en GeoDataFrames et les stocke dans un dictionnaire.\"\"\"\n",
    "    geodfs = {}\n",
    "    for name, file_path in file_paths.items():\n",
    "        df = pd.read_csv(file_path)\n",
    "        gdf = gpd.GeoDataFrame(df, geometry=gpd.GeoSeries.from_wkt(df['geometry']))\n",
    "        gdf.set_crs(epsg=2056, inplace=True)\n",
    "        geodfs[name] = gdf\n",
    "    return geodfs"
   ]
  },
  {
   "cell_type": "code",
   "execution_count": 22,
   "id": "5f93cb70-b229-4bb0-8e79-a42b4fde2d2f",
   "metadata": {},
   "outputs": [],
   "source": [
    "def merge_geodataframes(geodfs):\n",
    "    \"\"\"Fusionne plusieurs GeoDataFrames en conservant toutes les entrées uniques en utilisant les noms relatifs pour les géométries.\"\"\"\n",
    "    # Initialiser avec le premier GeoDataFrame\n",
    "    merged_gdf = geodfs.pop(next(iter(geodfs)))\n",
    "\n",
    "   # Fusionner avec une jointure externe (outer join)\n",
    "    for name, gdf in geodfs.items():\n",
    "        merged_gdf = merged_gdf.merge(gdf, on='idx', how='outer', suffixes=('', f'_{name}_drop'))\n",
    "\n",
    "    merged_gdf.set_index(\"idx\", inplace=True)\n",
    "\n",
    "    return merged_gdf"
   ]
  },
  {
   "cell_type": "code",
   "execution_count": 23,
   "id": "cb8e1035-5005-4a52-b9a8-0222f8b4a4fe",
   "metadata": {},
   "outputs": [],
   "source": [
    "def resolve_geometry_columns(merged_gdf):\n",
    "    \"\"\"Résout les colonnes de géométrie supplémentaires en vérifiant et en consolidant les géométries.\"\"\"\n",
    "    # Trouver toutes les colonnes de géométrie\n",
    "    geometry_columns = [col for col in merged_gdf.columns if col.startswith('geometry')]\n",
    "\n",
    "    if len(geometry_columns) > 1:\n",
    "        # Processus pour vérifier et consolider les géométries\n",
    "        merged_gdf['geometry'] = merged_gdf[geometry_columns].apply(lambda row: next((geom for geom in row if not pd.isnull(geom)), None), axis=1)\n",
    "        # Supprimer les colonnes de géométrie supplémentaires\n",
    "        merged_gdf = merged_gdf.drop(columns=[col for col in geometry_columns if col != 'geometry'])\n",
    "\n",
    "    return merged_gdf"
   ]
  },
  {
   "cell_type": "markdown",
   "id": "29e2eb82-7160-488c-9a33-90df2d77dac7",
   "metadata": {},
   "source": [
    "Nous pouvons maintenant fusionner nos données en un unique geodataframe."
   ]
  },
  {
   "cell_type": "code",
   "execution_count": 24,
   "id": "6d658c58-3be5-485f-be54-5cc4a13497ec",
   "metadata": {},
   "outputs": [
    {
     "data": {
      "text/html": [
       "<div>\n",
       "<style scoped>\n",
       "    .dataframe tbody tr th:only-of-type {\n",
       "        vertical-align: middle;\n",
       "    }\n",
       "\n",
       "    .dataframe tbody tr th {\n",
       "        vertical-align: top;\n",
       "    }\n",
       "\n",
       "    .dataframe thead th {\n",
       "        text-align: right;\n",
       "    }\n",
       "</style>\n",
       "<table border=\"1\" class=\"dataframe\">\n",
       "  <thead>\n",
       "    <tr style=\"text-align: right;\">\n",
       "      <th></th>\n",
       "      <th>geometry</th>\n",
       "      <th>altitude</th>\n",
       "      <th>geometry_env_drop</th>\n",
       "      <th>TypoCH_NUM</th>\n",
       "      <th>geometry_apt_drop</th>\n",
       "      <th>Bodentyp</th>\n",
       "      <th>NAHRSTOFF</th>\n",
       "      <th>WASSERDURC</th>\n",
       "      <th>WASSERSPEI</th>\n",
       "      <th>geometry_tmp_drop</th>\n",
       "      <th>temperature</th>\n",
       "    </tr>\n",
       "    <tr>\n",
       "      <th>idx</th>\n",
       "      <th></th>\n",
       "      <th></th>\n",
       "      <th></th>\n",
       "      <th></th>\n",
       "      <th></th>\n",
       "      <th></th>\n",
       "      <th></th>\n",
       "      <th></th>\n",
       "      <th></th>\n",
       "      <th></th>\n",
       "      <th></th>\n",
       "    </tr>\n",
       "  </thead>\n",
       "  <tbody>\n",
       "    <tr>\n",
       "      <th>33</th>\n",
       "      <td>None</td>\n",
       "      <td>NaN</td>\n",
       "      <td>None</td>\n",
       "      <td>NaN</td>\n",
       "      <td>None</td>\n",
       "      <td>NaN</td>\n",
       "      <td>NaN</td>\n",
       "      <td>NaN</td>\n",
       "      <td>NaN</td>\n",
       "      <td>POLYGON ((2485071.58 1107261.72, 2486071.58 11...</td>\n",
       "      <td>5.0</td>\n",
       "    </tr>\n",
       "    <tr>\n",
       "      <th>34</th>\n",
       "      <td>POLYGON ((2485071.58 1108261.72, 2486071.58 11...</td>\n",
       "      <td>410.7500</td>\n",
       "      <td>None</td>\n",
       "      <td>NaN</td>\n",
       "      <td>None</td>\n",
       "      <td>NaN</td>\n",
       "      <td>NaN</td>\n",
       "      <td>NaN</td>\n",
       "      <td>NaN</td>\n",
       "      <td>POLYGON ((2485071.58 1108261.72, 2486071.58 11...</td>\n",
       "      <td>5.1</td>\n",
       "    </tr>\n",
       "    <tr>\n",
       "      <th>35</th>\n",
       "      <td>POLYGON ((2485071.58 1109261.72, 2486071.58 11...</td>\n",
       "      <td>363.5148</td>\n",
       "      <td>POLYGON ((2485071.58 1109261.72, 2486071.58 11...</td>\n",
       "      <td>62.0</td>\n",
       "      <td>POLYGON ((2485071.58 1109261.72, 2486071.58 11...</td>\n",
       "      <td>orthic Luvisol; eutric, calcaric Cambisol</td>\n",
       "      <td>4.0</td>\n",
       "      <td>6.0</td>\n",
       "      <td>4.0</td>\n",
       "      <td>POLYGON ((2485071.58 1109261.72, 2486071.58 11...</td>\n",
       "      <td>5.2</td>\n",
       "    </tr>\n",
       "    <tr>\n",
       "      <th>36</th>\n",
       "      <td>POLYGON ((2485071.58 1110261.72, 2486071.58 11...</td>\n",
       "      <td>358.9348</td>\n",
       "      <td>POLYGON ((2485071.58 1110261.72, 2486071.58 11...</td>\n",
       "      <td>62.0</td>\n",
       "      <td>POLYGON ((2485071.58 1110261.72, 2486071.58 11...</td>\n",
       "      <td>orthic Luvisol; eutric, calcaric Cambisol</td>\n",
       "      <td>4.0</td>\n",
       "      <td>6.0</td>\n",
       "      <td>4.0</td>\n",
       "      <td>POLYGON ((2485071.58 1110261.72, 2486071.58 11...</td>\n",
       "      <td>5.2</td>\n",
       "    </tr>\n",
       "    <tr>\n",
       "      <th>37</th>\n",
       "      <td>POLYGON ((2485071.58 1111261.72, 2486071.58 11...</td>\n",
       "      <td>387.6868</td>\n",
       "      <td>POLYGON ((2485071.58 1111261.72, 2486071.58 11...</td>\n",
       "      <td>12.0</td>\n",
       "      <td>None</td>\n",
       "      <td>NaN</td>\n",
       "      <td>NaN</td>\n",
       "      <td>NaN</td>\n",
       "      <td>NaN</td>\n",
       "      <td>POLYGON ((2485071.58 1111261.72, 2486071.58 11...</td>\n",
       "      <td>5.2</td>\n",
       "    </tr>\n",
       "  </tbody>\n",
       "</table>\n",
       "</div>"
      ],
      "text/plain": [
       "                                              geometry  altitude  \\\n",
       "idx                                                                \n",
       "33                                                None       NaN   \n",
       "34   POLYGON ((2485071.58 1108261.72, 2486071.58 11...  410.7500   \n",
       "35   POLYGON ((2485071.58 1109261.72, 2486071.58 11...  363.5148   \n",
       "36   POLYGON ((2485071.58 1110261.72, 2486071.58 11...  358.9348   \n",
       "37   POLYGON ((2485071.58 1111261.72, 2486071.58 11...  387.6868   \n",
       "\n",
       "                                     geometry_env_drop  TypoCH_NUM  \\\n",
       "idx                                                                  \n",
       "33                                                None         NaN   \n",
       "34                                                None         NaN   \n",
       "35   POLYGON ((2485071.58 1109261.72, 2486071.58 11...        62.0   \n",
       "36   POLYGON ((2485071.58 1110261.72, 2486071.58 11...        62.0   \n",
       "37   POLYGON ((2485071.58 1111261.72, 2486071.58 11...        12.0   \n",
       "\n",
       "                                     geometry_apt_drop  \\\n",
       "idx                                                      \n",
       "33                                                None   \n",
       "34                                                None   \n",
       "35   POLYGON ((2485071.58 1109261.72, 2486071.58 11...   \n",
       "36   POLYGON ((2485071.58 1110261.72, 2486071.58 11...   \n",
       "37                                                None   \n",
       "\n",
       "                                      Bodentyp  NAHRSTOFF  WASSERDURC  \\\n",
       "idx                                                                     \n",
       "33                                         NaN        NaN         NaN   \n",
       "34                                         NaN        NaN         NaN   \n",
       "35   orthic Luvisol; eutric, calcaric Cambisol        4.0         6.0   \n",
       "36   orthic Luvisol; eutric, calcaric Cambisol        4.0         6.0   \n",
       "37                                         NaN        NaN         NaN   \n",
       "\n",
       "     WASSERSPEI                                  geometry_tmp_drop  \\\n",
       "idx                                                                  \n",
       "33          NaN  POLYGON ((2485071.58 1107261.72, 2486071.58 11...   \n",
       "34          NaN  POLYGON ((2485071.58 1108261.72, 2486071.58 11...   \n",
       "35          4.0  POLYGON ((2485071.58 1109261.72, 2486071.58 11...   \n",
       "36          4.0  POLYGON ((2485071.58 1110261.72, 2486071.58 11...   \n",
       "37          NaN  POLYGON ((2485071.58 1111261.72, 2486071.58 11...   \n",
       "\n",
       "     temperature  \n",
       "idx               \n",
       "33           5.0  \n",
       "34           5.1  \n",
       "35           5.2  \n",
       "36           5.2  \n",
       "37           5.2  "
      ]
     },
     "execution_count": 24,
     "metadata": {},
     "output_type": "execute_result"
    }
   ],
   "source": [
    "# Dictionnaire des chemins vers vos fichiers CSV avec un nom relatif\n",
    "file_paths = {\n",
    "    'alt' : '../../data/processed/processed_swiss_grid_altitude.csv', \n",
    "    'env' : '../../data/processed/processed_swiss_grid_environment.csv', \n",
    "    'apt' : '../../data/processed/processed_swiss_grid_soil_aptitude.csv',\n",
    "    'tmp' : '../../data/processed/processed_swiss_grid_temperature.csv'\n",
    "}\n",
    "\n",
    "# Charger les GeoDataFrames\n",
    "geodfs = load_geodataframes(file_paths)\n",
    "\n",
    "# Fusionner les GeoDataFrames\n",
    "merged_gdf = merge_geodataframes(geodfs)\n",
    "merged_gdf.head()"
   ]
  },
  {
   "cell_type": "markdown",
   "id": "333be936-8c57-4454-b21c-9e36c5053422",
   "metadata": {},
   "source": [
    "Les données dans ce nouveau Dataframe ne sont malheureusement pas obligatoirement sans incohérences. Les données provenant de plusieurs jeux différents, même si traitées sous la même forme, peuvent présenter de différences. C'est le cas, par exemple, pour l'altitude dont les données couvrent une zone beaucoup plus grande que juste la Suisse.\n",
    "\n",
    "Il est donc intéressant de vérifier que lse différentes géometries sont les mêmes, dans le cas où il y en as plusieurs, puisque les données ont été jointes sur un autre attribut (`idx`). Ces vérifications, comme annoncé plus haut, ont été effectuée dans un notebook séparé."
   ]
  },
  {
   "cell_type": "code",
   "execution_count": 25,
   "id": "30aa4127-1c4e-420b-9b43-fdb208a70bdf",
   "metadata": {},
   "outputs": [],
   "source": [
    "def are_geometries_not_identical(row, geometry_columns):\n",
    "    geometries = [row[col] for col in geometry_columns]\n",
    "    \n",
    "    # Filtrer les géométries non nulles\n",
    "    geometries = [geom for geom in geometries if geom is not None]\n",
    "    \n",
    "    # Vérifier si toutes les géométries non nulles ne sont pas égales\n",
    "    return not all(geom.equals(geometries[0]) for geom in geometries)"
   ]
  },
  {
   "cell_type": "code",
   "execution_count": 26,
   "id": "2b51ce7a-3bd0-45c9-a0e2-9c7f3567d8f1",
   "metadata": {},
   "outputs": [
    {
     "data": {
      "text/plain": [
       "0"
      ]
     },
     "execution_count": 26,
     "metadata": {},
     "output_type": "execute_result"
    }
   ],
   "source": [
    "geometry_columns = [col for col in merged_gdf.columns if col.startswith('geometry')]\n",
    "non_identical_gdf = merged_gdf[merged_gdf.apply(are_geometries_not_identical, geometry_columns=geometry_columns, axis=1)]\n",
    "non_identical_gdf.shape[0]"
   ]
  },
  {
   "cell_type": "markdown",
   "id": "ae429f09-185b-47c7-9a3b-3e6e2aa460dc",
   "metadata": {},
   "source": [
    "Cette vérification ne nous retourne aucune ligne, ce qui signifie qu'aucune erreur de fusion n'a été faite.\n",
    "\n",
    "Nous pouvons donc maintenant nous concentrer sur les différentes entrées pour lesquelles l'une ou l'autre des données n'existe pas. Pour cela, nous pouvons déjà afficher les informations des lignes ayant au moins une valeur nulle :"
   ]
  },
  {
   "cell_type": "code",
   "execution_count": 27,
   "id": "c334007d-0cbb-434d-a748-3a8361ed06fd",
   "metadata": {},
   "outputs": [
    {
     "name": "stdout",
     "output_type": "stream",
     "text": [
      "<class 'geopandas.geodataframe.GeoDataFrame'>\n",
      "Index: 15282 entries, 33 to 79683\n",
      "Data columns (total 11 columns):\n",
      " #   Column             Non-Null Count  Dtype   \n",
      "---  ------             --------------  -----   \n",
      " 0   geometry           14782 non-null  geometry\n",
      " 1   altitude           14782 non-null  float64 \n",
      " 2   geometry_env_drop  39 non-null     geometry\n",
      " 3   TypoCH_NUM         39 non-null     float64 \n",
      " 4   geometry_apt_drop  13 non-null     geometry\n",
      " 5   Bodentyp           13 non-null     object  \n",
      " 6   NAHRSTOFF          13 non-null     float64 \n",
      " 7   WASSERDURC         13 non-null     float64 \n",
      " 8   WASSERSPEI         13 non-null     float64 \n",
      " 9   geometry_tmp_drop  6894 non-null   geometry\n",
      " 10  temperature        6894 non-null   float64 \n",
      "dtypes: float64(6), geometry(4), object(1)\n",
      "memory usage: 1.4+ MB\n"
     ]
    }
   ],
   "source": [
    "merged_gdf[merged_gdf.isnull().T.any()].info()"
   ]
  },
  {
   "cell_type": "markdown",
   "id": "f536e26b-748d-451b-af4d-f8179036ca01",
   "metadata": {},
   "source": [
    "Après analyse, les problèmes suivants ont été observés :\n",
    "- Entrées avec uniquement l'altitude et/ou la température, dû à des cellules présentes en dehors des frontières suisses.\n",
    "- Entrées sans altitude, dû à la présences de voies de communication présentes en Italie.\n",
    "- Entrées sans milieu naturel, dû à une définition des frontières légèrement différente dans les jeux de données et à une intersection minime avec nos cellules.\n",
    "- Entrées sans aptitudes du sol, dû à nouveau à une définition des frontières légèrement différente dans les jeux de données et à une intersection minime avec nos cellules.\n",
    "\n",
    "Nous allons commencer par supprimer les entrées pour lesquels il a été déterminer de l'existence n'est pas pertinente dans notre analyse."
   ]
  },
  {
   "cell_type": "code",
   "execution_count": 28,
   "id": "b176c463-c06c-474c-bcf6-fa797b5e43bb",
   "metadata": {},
   "outputs": [],
   "source": [
    "# Suppression des cellules hors de la Suisse\n",
    "condition0 = (\n",
    "    merged_gdf['geometry_env_drop'].isnull() &\n",
    "    merged_gdf['geometry_apt_drop'].isnull()\n",
    ")\n",
    "merged_gdf = merged_gdf.loc[~condition0]"
   ]
  },
  {
   "cell_type": "code",
   "execution_count": 29,
   "id": "ac60da11-35fc-4b6f-8c53-4c05d0038486",
   "metadata": {},
   "outputs": [],
   "source": [
    "# Suppression des cellules hors de la Suisse (Voies de communication en Italie)\n",
    "condition1 = (\n",
    "    merged_gdf['geometry'].isnull() & \n",
    "    merged_gdf['geometry_apt_drop'].isnull() &\n",
    "    (merged_gdf['TypoCH_NUM'] == 93)\n",
    ")\n",
    "merged_gdf = merged_gdf.loc[~condition1]"
   ]
  },
  {
   "cell_type": "code",
   "execution_count": 30,
   "id": "2e76869c-0378-401e-9dd3-6251e6723522",
   "metadata": {},
   "outputs": [],
   "source": [
    "# Suppression des cellules sans milieu naturel\n",
    "condition2 = (\n",
    "   merged_gdf['geometry_env_drop'].isnull()\n",
    ")\n",
    "\n",
    "merged_gdf = merged_gdf.loc[~condition2]"
   ]
  },
  {
   "cell_type": "code",
   "execution_count": 31,
   "id": "3bf0ad4a-e9be-482c-ad0b-040d9f4f4c68",
   "metadata": {},
   "outputs": [],
   "source": [
    "# Suppression des cellules sans aptitudes du sol et ne devant pas être conservées\n",
    "condition3 = (\n",
    "    merged_gdf['geometry_apt_drop'].isnull() &\n",
    "     (\n",
    "         (merged_gdf['TypoCH_NUM']  == 12.0) | \n",
    "         (merged_gdf['TypoCH_NUM']  == 31.0) |\n",
    "         (merged_gdf['TypoCH_NUM']  == 62.0) |\n",
    "         (merged_gdf['TypoCH_NUM']  == 63.0) |\n",
    "         (merged_gdf['TypoCH_NUM']  == 92.0) |\n",
    "         (merged_gdf['TypoCH_NUM']  == 93.0)\n",
    "     )\n",
    ")\n",
    "merged_gdf = merged_gdf.loc[~condition3]"
   ]
  },
  {
   "cell_type": "markdown",
   "id": "93604701-cbdf-4be9-9648-a5e4378bc01c",
   "metadata": {},
   "source": [
    "Les cellules restantes peuvent toutes être conservées, mais doivent être marquées comme ayant des valeurs inconnues."
   ]
  },
  {
   "cell_type": "code",
   "execution_count": 32,
   "id": "394185d2-ad10-40c2-9b29-4c3c60ba859d",
   "metadata": {},
   "outputs": [],
   "source": [
    "merged_gdf['Bodentyp'] = merged_gdf['Bodentyp'].fillna('-')\n",
    "merged_gdf['NAHRSTOFF'] = merged_gdf['NAHRSTOFF'].fillna(0)\n",
    "merged_gdf['WASSERDURC'] = merged_gdf['WASSERDURC'].fillna(0)\n",
    "merged_gdf['WASSERSPEI'] = merged_gdf['WASSERSPEI'].fillna(0)"
   ]
  },
  {
   "cell_type": "markdown",
   "id": "2369024e-8caa-4440-bf42-f3579920e1c9",
   "metadata": {},
   "source": [
    "Maintenant que les problèmes de nos données ont été corrigées, nous pouvons nous débarasser des colonnes inutiles."
   ]
  },
  {
   "cell_type": "code",
   "execution_count": 33,
   "id": "03958b71-e396-4d41-bce9-fee15ea0b24f",
   "metadata": {},
   "outputs": [],
   "source": [
    "# Résoudre les colonnes de géométrie supplémentaires\n",
    "resolved_gdf = resolve_geometry_columns(merged_gdf)"
   ]
  },
  {
   "cell_type": "markdown",
   "id": "02838e29-2406-450d-9b27-680c04a5db0c",
   "metadata": {},
   "source": [
    "Nous faisons une dernière vérification, afin de valider qu'il ne reste plus aucunes entrées contenant des valeurs manquantes:"
   ]
  },
  {
   "cell_type": "code",
   "execution_count": 34,
   "id": "7d9da89a-2ccb-428d-af5f-8c34affd0786",
   "metadata": {
    "scrolled": true
   },
   "outputs": [
    {
     "data": {
      "text/html": [
       "<div>\n",
       "<style scoped>\n",
       "    .dataframe tbody tr th:only-of-type {\n",
       "        vertical-align: middle;\n",
       "    }\n",
       "\n",
       "    .dataframe tbody tr th {\n",
       "        vertical-align: top;\n",
       "    }\n",
       "\n",
       "    .dataframe thead th {\n",
       "        text-align: right;\n",
       "    }\n",
       "</style>\n",
       "<table border=\"1\" class=\"dataframe\">\n",
       "  <thead>\n",
       "    <tr style=\"text-align: right;\">\n",
       "      <th></th>\n",
       "      <th>geometry</th>\n",
       "      <th>altitude</th>\n",
       "      <th>TypoCH_NUM</th>\n",
       "      <th>Bodentyp</th>\n",
       "      <th>NAHRSTOFF</th>\n",
       "      <th>WASSERDURC</th>\n",
       "      <th>WASSERSPEI</th>\n",
       "      <th>temperature</th>\n",
       "    </tr>\n",
       "    <tr>\n",
       "      <th>idx</th>\n",
       "      <th></th>\n",
       "      <th></th>\n",
       "      <th></th>\n",
       "      <th></th>\n",
       "      <th></th>\n",
       "      <th></th>\n",
       "      <th></th>\n",
       "      <th></th>\n",
       "    </tr>\n",
       "  </thead>\n",
       "  <tbody>\n",
       "  </tbody>\n",
       "</table>\n",
       "</div>"
      ],
      "text/plain": [
       "Empty GeoDataFrame\n",
       "Columns: [geometry, altitude, TypoCH_NUM, Bodentyp, NAHRSTOFF, WASSERDURC, WASSERSPEI, temperature]\n",
       "Index: []"
      ]
     },
     "execution_count": 34,
     "metadata": {},
     "output_type": "execute_result"
    }
   ],
   "source": [
    "resolved_gdf[resolved_gdf.isnull().T.any()]"
   ]
  },
  {
   "cell_type": "markdown",
   "id": "090d234b-f373-40e8-b466-81b97fe4af6a",
   "metadata": {},
   "source": [
    "## Séparation des types de sols\n",
    "\n",
    "La caractéristiques `Bodentyp` regroupe différents types de sols, avec une distinction de 2ème niveau. Les différentes cellules peuvent comporter plusieurs types de sols. Afin de simplifier l'utilisation de cette caractéristique, il a été décidé de séparer cette caractéristique en plusieurs caractéristiques différentes, une par type de sol. De cette manière, le type de sol pourra mieux être exploité dans nos différents tests."
   ]
  },
  {
   "cell_type": "code",
   "execution_count": null,
   "id": "e8636c82-9ca8-4c95-bd43-af560702dc83",
   "metadata": {},
   "outputs": [],
   "source": [
    "# TODO"
   ]
  },
  {
   "cell_type": "markdown",
   "id": "a19a9baf-ff7b-4c3f-8ed1-752715297af3",
   "metadata": {},
   "source": [
    "## Enregistrement des données\n",
    "Notre dataset étant maintenant bon à être utiliser, nous pouvont l'enregistrer pour y ajouter les données du néophyte. Cela sera fait dans un autre notebook."
   ]
  },
  {
   "cell_type": "code",
   "execution_count": 35,
   "id": "5ec9a2c2-94fa-416a-943e-aee62439e345",
   "metadata": {},
   "outputs": [
    {
     "name": "stdout",
     "output_type": "stream",
     "text": [
      "Le DataFrame a été sauvegardé dans le fichier '../../data/processed/processed_enhanced_swiss_data.csv'\n"
     ]
    }
   ],
   "source": [
    "# Sauvegarde du DataFrame dans un fichier CSV\n",
    "filename = '../../data/processed/processed_enhanced_swiss_data.csv'\n",
    "resolved_gdf.to_csv(filename, index=True, encoding='utf-8')\n",
    "\n",
    "print(f\"Le DataFrame a été sauvegardé dans le fichier '{filename}'\")"
   ]
  },
  {
   "cell_type": "code",
   "execution_count": null,
   "id": "31106583-f223-46e3-99db-14f2e9ff2b20",
   "metadata": {},
   "outputs": [],
   "source": []
  }
 ],
 "metadata": {
  "kernelspec": {
   "display_name": "GML",
   "language": "python",
   "name": "gml"
  },
  "language_info": {
   "codemirror_mode": {
    "name": "ipython",
    "version": 3
   },
   "file_extension": ".py",
   "mimetype": "text/x-python",
   "name": "python",
   "nbconvert_exporter": "python",
   "pygments_lexer": "ipython3",
   "version": "3.12.7"
  }
 },
 "nbformat": 4,
 "nbformat_minor": 5
}

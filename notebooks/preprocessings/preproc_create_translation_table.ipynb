{
 "cells": [
  {
   "cell_type": "markdown",
   "id": "a965683f-354f-443e-8fdd-e1ffb43334cc",
   "metadata": {},
   "source": [
    "# Préparation d'une table de traduction\n",
    "\n",
    "Étant donné le nombre d'attributs catégoriels utilisés et leurs utilisation sous la forme de valeurs numériques, il est nécessaire d'avoir un fichier permettant de retrouver les catégories associées à ces valeurs. Ce notebook sert donc à la création d'une table de traduction.\n",
    "\n",
    "Les différentes informations utilisées pour sa création ont été trouvées dans les données elles-mêmes (dans le cas du milieu naturel) inais que dans les fichiers de métadonnées accompagnant les données."
   ]
  },
  {
   "cell_type": "code",
   "execution_count": 1,
   "id": "650292cb-6569-4e95-847d-fdd7938440fe",
   "metadata": {},
   "outputs": [],
   "source": [
    "# Imports nécessaires pour ce notebook\n",
    "import pandas as pd\n",
    "import geopandas as gpd"
   ]
  },
  {
   "cell_type": "markdown",
   "id": "29237c61-9d0e-4232-bd76-d93611442b16",
   "metadata": {},
   "source": [
    "## Création du dataframe\n",
    "\n",
    "Afin de pouvoir mettre l'ensemble des catégories dans une unique table, il est nécessaire d'y avoir le nom de l'attribut associé, afin de pouvoir facilement les utiliser."
   ]
  },
  {
   "cell_type": "code",
   "execution_count": 2,
   "id": "342d0726-40a3-4ee9-b26e-a186d6cd82b6",
   "metadata": {},
   "outputs": [],
   "source": [
    "df = pd.DataFrame(columns=['Feature', 'Value', 'Category'])"
   ]
  },
  {
   "cell_type": "markdown",
   "id": "5a959973-cc83-46f8-9f0f-847b0e9af24e",
   "metadata": {},
   "source": [
    "## Ajout des catégories pour les milieux naturels\n",
    "\n",
    "Le geodataframe pour les milieux naturels contient plusieurs couches, dont l'une est utilisée comme catalogue pour les codes numériques. Il s'agit de la couche `TypoCH_Catalogue`. "
   ]
  },
  {
   "cell_type": "code",
   "execution_count": 3,
   "id": "fbf03eca-6b5a-46b2-9200-b7bcda4755a6",
   "metadata": {},
   "outputs": [
    {
     "data": {
      "text/html": [
       "<div>\n",
       "<style scoped>\n",
       "    .dataframe tbody tr th:only-of-type {\n",
       "        vertical-align: middle;\n",
       "    }\n",
       "\n",
       "    .dataframe tbody tr th {\n",
       "        vertical-align: top;\n",
       "    }\n",
       "\n",
       "    .dataframe thead th {\n",
       "        text-align: right;\n",
       "    }\n",
       "</style>\n",
       "<table border=\"1\" class=\"dataframe\">\n",
       "  <thead>\n",
       "    <tr style=\"text-align: right;\">\n",
       "      <th></th>\n",
       "      <th>CODETypoCH</th>\n",
       "      <th>DETypoCH</th>\n",
       "      <th>FRTypoCH</th>\n",
       "      <th>ITTypoCH</th>\n",
       "    </tr>\n",
       "  </thead>\n",
       "  <tbody>\n",
       "    <tr>\n",
       "      <th>0</th>\n",
       "      <td>1</td>\n",
       "      <td>1 Gewässer</td>\n",
       "      <td>1 Eaux libres</td>\n",
       "      <td>1 Ambienti acquatici</td>\n",
       "    </tr>\n",
       "    <tr>\n",
       "      <th>1</th>\n",
       "      <td>1.1</td>\n",
       "      <td>1.1 Stehende Gewässer</td>\n",
       "      <td>1.1 Eaux calmes</td>\n",
       "      <td>1.1 Acque ferme</td>\n",
       "    </tr>\n",
       "    <tr>\n",
       "      <th>2</th>\n",
       "      <td>1.1.0</td>\n",
       "      <td>1.1.0 Stehendes Gewässer ohne Vegetation</td>\n",
       "      <td>1.1.0 Eau sans végétation</td>\n",
       "      <td>1.1.0 Acque prive di vegetazione</td>\n",
       "    </tr>\n",
       "    <tr>\n",
       "      <th>3</th>\n",
       "      <td>1.1.0.1</td>\n",
       "      <td>1.1.0.1 Tiefgründiges Gewässer (Freiwasserzone)</td>\n",
       "      <td>1.1.0.1 Eau profonde (zone limnétique)</td>\n",
       "      <td>1.1.0.1 Acque profonde</td>\n",
       "    </tr>\n",
       "    <tr>\n",
       "      <th>4</th>\n",
       "      <td>1.1.0.2</td>\n",
       "      <td>1.1.0.2 Seichtes Gewässer (Litoral, inkl. Tümpel)</td>\n",
       "      <td>1.1.0.2 Eau peu profonde (incl. mares temporai...</td>\n",
       "      <td>1.1.0.2 Acque poco profonde (comprese le pozze...</td>\n",
       "    </tr>\n",
       "  </tbody>\n",
       "</table>\n",
       "</div>"
      ],
      "text/plain": [
       "  CODETypoCH                                           DETypoCH  \\\n",
       "0          1                                         1 Gewässer   \n",
       "1        1.1                              1.1 Stehende Gewässer   \n",
       "2      1.1.0           1.1.0 Stehendes Gewässer ohne Vegetation   \n",
       "3    1.1.0.1    1.1.0.1 Tiefgründiges Gewässer (Freiwasserzone)   \n",
       "4    1.1.0.2  1.1.0.2 Seichtes Gewässer (Litoral, inkl. Tümpel)   \n",
       "\n",
       "                                            FRTypoCH  \\\n",
       "0                                      1 Eaux libres   \n",
       "1                                    1.1 Eaux calmes   \n",
       "2                          1.1.0 Eau sans végétation   \n",
       "3             1.1.0.1 Eau profonde (zone limnétique)   \n",
       "4  1.1.0.2 Eau peu profonde (incl. mares temporai...   \n",
       "\n",
       "                                            ITTypoCH  \n",
       "0                               1 Ambienti acquatici  \n",
       "1                                    1.1 Acque ferme  \n",
       "2                   1.1.0 Acque prive di vegetazione  \n",
       "3                             1.1.0.1 Acque profonde  \n",
       "4  1.1.0.2 Acque poco profonde (comprese le pozze...  "
      ]
     },
     "execution_count": 3,
     "metadata": {},
     "output_type": "execute_result"
    }
   ],
   "source": [
    "gdb_path = \"data/HabitatMap_CH_V1_20220805.gdb\"\n",
    "selected_layer = \"TypoCH_Catalogue\"\n",
    "\n",
    "gdf = gpd.read_file(gdb_path, layer=selected_layer)\n",
    "gdf.head()"
   ]
  },
  {
   "cell_type": "markdown",
   "id": "1ac8b2e2-7472-43e8-bdd4-69abb05221bb",
   "metadata": {},
   "source": [
    "N'ayant pris que les classes de niveaux 2 lors de la sélection des données, seules celles-ci vont être sélectionnées, avec la catégorie associée, en Français."
   ]
  },
  {
   "cell_type": "code",
   "execution_count": 4,
   "id": "e835d7b3-6138-47cd-a45a-5fd6573a19a3",
   "metadata": {},
   "outputs": [],
   "source": [
    "# Identifier les codes de niveau 2 (avec un unique point et sans lettres)\n",
    "df_env = gdf[gdf['CODETypoCH'].str.contains(r'^\\d+\\.\\d+$')].copy()\n",
    "\n",
    "# Retirer le point de ce champ\n",
    "df_env['CODETypoCH'] = df_env['CODETypoCH'].str.replace('.', '', regex=False)\n",
    "\n",
    "# Suppression des colonnes inutilisées\n",
    "df_env.drop(columns=['DETypoCH', 'ITTypoCH'], inplace=True)\n",
    "\n",
    "# Renommage des colonnes et ajout du nom de la feature\n",
    "df_env.columns = ['Value', 'Category']\n",
    "df_env['Feature'] = 'TypoCH_NUM'\n",
    "\n",
    "# Ajouter les nouvelles valeurs extraites au DataFrame final\n",
    "df = pd.concat([df, df_env], ignore_index=True)"
   ]
  },
  {
   "cell_type": "markdown",
   "id": "59832e01-eaa0-44af-8033-245210352f6d",
   "metadata": {},
   "source": [
    "## Ajout des catégories pour les caractéristiques du sol\n",
    "\n",
    "Malheureusement, les différentes caractéristiques du sol ne sont pas présentes dans la geodatabase. Les classes doivent donc être reprises manuellement depuis les fichiers de métadonnées."
   ]
  },
  {
   "cell_type": "code",
   "execution_count": 5,
   "id": "14214f48-dbb7-435e-af8e-5c942195634e",
   "metadata": {},
   "outputs": [],
   "source": [
    "# Ajout des valeurs prises par l'attribut `WASSERSPEI` (= Capacité de rétention hydrique )\n",
    "values_wasserspei = {\n",
    "    'Feature': ['WASSERSPEI'] * 8,\n",
    "    'Value': [9999, 0, 1, 2, 3, 4, 5, 6],\n",
    "    'Category': ['inconnu', 'inconnu', 'extrêmement faible', 'très faible', 'faible', 'moyen', 'bon', 'très bon']\n",
    "}\n",
    "\n",
    "df = pd.concat([df, pd.DataFrame(values_wasserspei)], ignore_index=True)"
   ]
  },
  {
   "cell_type": "code",
   "execution_count": 6,
   "id": "964ccbee-3ce6-49de-981b-8b176ccd7b03",
   "metadata": {},
   "outputs": [],
   "source": [
    "# Ajout des valeurs prises par l'attribut `NAHRSTOFF` (= Capacité de rétention en substances nutritives )\n",
    "values_nahrstoff = {\n",
    "    'Feature': ['NAHRSTOFF'] * 8,\n",
    "    'Value': [-9999, 0, 1, 2, 3, 4, 5, 6],\n",
    "    'Category': ['inconnu', 'inconnu', 'extrêmement faible', 'très faible', 'faible', 'moyen', 'bon', 'très bon']\n",
    "}\n",
    "\n",
    "df = pd.concat([df, pd.DataFrame(values_nahrstoff)], ignore_index=True)"
   ]
  },
  {
   "cell_type": "code",
   "execution_count": 7,
   "id": "9309f540-6164-492a-9f3a-3cd8375f26bf",
   "metadata": {},
   "outputs": [],
   "source": [
    "# Ajout des valeurs prises par l'attribut `WASSERDURC` (= Perméabilité)\n",
    "values_wasserdurc = {\n",
    "    'Feature': ['WASSERDURC'] * 7,\n",
    "    'Value': [-9999, 0, 2, 3, 4, 5, 6],\n",
    "    'Category': ['inconnu', 'inconnu', 'très ralenti', 'ralenti', 'légèrement ralenti', 'normal', 'excessif']\n",
    "}\n",
    "\n",
    "df = pd.concat([df, pd.DataFrame(values_wasserdurc)], ignore_index=True)"
   ]
  },
  {
   "cell_type": "markdown",
   "id": "9f994df2-da20-4a69-ae4a-efe16034ec2b",
   "metadata": {},
   "source": [
    "## Enregistrement du dataframe"
   ]
  },
  {
   "cell_type": "code",
   "execution_count": 8,
   "id": "c1908c08-dfc8-415b-af00-c4ba7a647816",
   "metadata": {},
   "outputs": [],
   "source": [
    "# Sauvegarde du DataFrame dans un fichier CSV\n",
    "filename = 'data/translation_table.csv'\n",
    "df.to_csv(filename, index=True, encoding='utf-8')"
   ]
  }
 ],
 "metadata": {
  "kernelspec": {
   "display_name": "GML",
   "language": "python",
   "name": "gml"
  },
  "language_info": {
   "codemirror_mode": {
    "name": "ipython",
    "version": 3
   },
   "file_extension": ".py",
   "mimetype": "text/x-python",
   "name": "python",
   "nbconvert_exporter": "python",
   "pygments_lexer": "ipython3",
   "version": "3.12.7"
  }
 },
 "nbformat": 4,
 "nbformat_minor": 5
}

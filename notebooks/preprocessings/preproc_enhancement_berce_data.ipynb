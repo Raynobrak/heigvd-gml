{
 "cells": [
  {
   "cell_type": "markdown",
   "id": "a965683f-354f-443e-8fdd-e1ffb43334cc",
   "metadata": {},
   "source": [
    "# Enrichissement des données\n",
    "Ce notebook sert à l'enrichissement des données, en se basant sur les coordonnées GPS fournies. Les données ajoutées proviennent des différents jeux de données disponibles sur GeoAdmin, ainsi que de Google Earth Engine, et qui ont été pré-traitées dans un autre notebook. "
   ]
  },
  {
   "cell_type": "markdown",
   "id": "5b3e6c52-df78-4acb-a399-a47355b979d4",
   "metadata": {},
   "source": [
    "## Import des données de base\n",
    "Afin de pouvoir enrichir les données, il nous faut dans un premier temps importer le contenu du fichier contenant les données de présence de l'espèce invasive sélectionnée."
   ]
  },
  {
   "cell_type": "code",
   "execution_count": 20,
   "id": "da2a8ae1-8c75-414a-9b5a-605ca0cebced",
   "metadata": {},
   "outputs": [],
   "source": [
    "# Imports nécessaires pour ce notebook\n",
    "import pandas as pd\n",
    "import geopandas as gpd\n",
    "from shapely import wkt\n",
    "from shapely.geometry import Point"
   ]
  },
  {
   "cell_type": "code",
   "execution_count": 15,
   "id": "1db21d16-5f61-4ca2-bf33-cdb89c56f5da",
   "metadata": {},
   "outputs": [],
   "source": [
    "berce_file_path = '../../data/processed/df_berce_clean.csv'"
   ]
  },
  {
   "cell_type": "code",
   "execution_count": 16,
   "id": "cf087a3a-a7d6-480e-9959-8cfea1e08caf",
   "metadata": {},
   "outputs": [
    {
     "data": {
      "text/html": [
       "<div>\n",
       "<style scoped>\n",
       "    .dataframe tbody tr th:only-of-type {\n",
       "        vertical-align: middle;\n",
       "    }\n",
       "\n",
       "    .dataframe tbody tr th {\n",
       "        vertical-align: top;\n",
       "    }\n",
       "\n",
       "    .dataframe thead th {\n",
       "        text-align: right;\n",
       "    }\n",
       "</style>\n",
       "<table border=\"1\" class=\"dataframe\">\n",
       "  <thead>\n",
       "    <tr style=\"text-align: right;\">\n",
       "      <th></th>\n",
       "      <th>decimalLatitude</th>\n",
       "      <th>decimalLongitude</th>\n",
       "      <th>elevation</th>\n",
       "      <th>date</th>\n",
       "    </tr>\n",
       "  </thead>\n",
       "  <tbody>\n",
       "    <tr>\n",
       "      <th>0</th>\n",
       "      <td>46.29982</td>\n",
       "      <td>7.91708</td>\n",
       "      <td>658.0</td>\n",
       "      <td>1899-12-30 00:00:00</td>\n",
       "    </tr>\n",
       "    <tr>\n",
       "      <th>1</th>\n",
       "      <td>47.14918</td>\n",
       "      <td>7.50258</td>\n",
       "      <td>500.0</td>\n",
       "      <td>1905-06-29 00:00:00</td>\n",
       "    </tr>\n",
       "    <tr>\n",
       "      <th>2</th>\n",
       "      <td>47.14918</td>\n",
       "      <td>7.50258</td>\n",
       "      <td>500.0</td>\n",
       "      <td>1905-06-28 00:00:00</td>\n",
       "    </tr>\n",
       "    <tr>\n",
       "      <th>14</th>\n",
       "      <td>46.39338</td>\n",
       "      <td>6.99140</td>\n",
       "      <td>1448.0</td>\n",
       "      <td>1970-01-01 00:00:00</td>\n",
       "    </tr>\n",
       "    <tr>\n",
       "      <th>15</th>\n",
       "      <td>46.34986</td>\n",
       "      <td>7.16844</td>\n",
       "      <td>1246.5</td>\n",
       "      <td>1970-01-01 00:00:00</td>\n",
       "    </tr>\n",
       "  </tbody>\n",
       "</table>\n",
       "</div>"
      ],
      "text/plain": [
       "    decimalLatitude  decimalLongitude  elevation                 date\n",
       "0          46.29982           7.91708      658.0  1899-12-30 00:00:00\n",
       "1          47.14918           7.50258      500.0  1905-06-29 00:00:00\n",
       "2          47.14918           7.50258      500.0  1905-06-28 00:00:00\n",
       "14         46.39338           6.99140     1448.0  1970-01-01 00:00:00\n",
       "15         46.34986           7.16844     1246.5  1970-01-01 00:00:00"
      ]
     },
     "execution_count": 16,
     "metadata": {},
     "output_type": "execute_result"
    }
   ],
   "source": [
    "# Importation des données depuis le fichier csv\n",
    "df_berce = pd.read_csv(berce_file_path, index_col=0)\n",
    "\n",
    "# Affichage pour vérifier l'importation des données\n",
    "df_berce.head()"
   ]
  },
  {
   "cell_type": "code",
   "execution_count": 17,
   "id": "73eca3b5-bfd8-4fae-aaf9-e6d205258c4c",
   "metadata": {},
   "outputs": [],
   "source": [
    "swiss_data_file_path = '../../data/processed/processed_enhanced_swiss_data.csv'"
   ]
  },
  {
   "cell_type": "code",
   "execution_count": 18,
   "id": "6181ba90-730d-45ab-97d1-549ce3520faa",
   "metadata": {},
   "outputs": [
    {
     "data": {
      "text/html": [
       "<div>\n",
       "<style scoped>\n",
       "    .dataframe tbody tr th:only-of-type {\n",
       "        vertical-align: middle;\n",
       "    }\n",
       "\n",
       "    .dataframe tbody tr th {\n",
       "        vertical-align: top;\n",
       "    }\n",
       "\n",
       "    .dataframe thead th {\n",
       "        text-align: right;\n",
       "    }\n",
       "</style>\n",
       "<table border=\"1\" class=\"dataframe\">\n",
       "  <thead>\n",
       "    <tr style=\"text-align: right;\">\n",
       "      <th></th>\n",
       "      <th>geometry</th>\n",
       "      <th>altitude</th>\n",
       "      <th>TypoCH_NUM</th>\n",
       "      <th>Bodentyp</th>\n",
       "      <th>NAHRSTOFF</th>\n",
       "      <th>WASSERDURC</th>\n",
       "      <th>WASSERSPEI</th>\n",
       "      <th>mean_annual_temp</th>\n",
       "      <th>region</th>\n",
       "    </tr>\n",
       "    <tr>\n",
       "      <th>idx</th>\n",
       "      <th></th>\n",
       "      <th></th>\n",
       "      <th></th>\n",
       "      <th></th>\n",
       "      <th></th>\n",
       "      <th></th>\n",
       "      <th></th>\n",
       "      <th></th>\n",
       "      <th></th>\n",
       "    </tr>\n",
       "  </thead>\n",
       "  <tbody>\n",
       "    <tr>\n",
       "      <th>264</th>\n",
       "      <td>POLYGON ((2486071.58 1112261.72, 2487071.58 11...</td>\n",
       "      <td>374.2680</td>\n",
       "      <td>82.0</td>\n",
       "      <td>orthic Luvisol; eutric, calcaric Cambisol</td>\n",
       "      <td>4.0</td>\n",
       "      <td>6.0</td>\n",
       "      <td>4.0</td>\n",
       "      <td>10.4</td>\n",
       "      <td>25</td>\n",
       "    </tr>\n",
       "    <tr>\n",
       "      <th>265</th>\n",
       "      <td>POLYGON ((2486071.58 1113261.72, 2487071.58 11...</td>\n",
       "      <td>411.3956</td>\n",
       "      <td>12.0</td>\n",
       "      <td>orthic Luvisol; eutric, calcaric Cambisol</td>\n",
       "      <td>4.0</td>\n",
       "      <td>6.0</td>\n",
       "      <td>4.0</td>\n",
       "      <td>10.1</td>\n",
       "      <td>25</td>\n",
       "    </tr>\n",
       "    <tr>\n",
       "      <th>269</th>\n",
       "      <td>POLYGON ((2486071.58 1117261.72, 2487071.58 11...</td>\n",
       "      <td>461.3668</td>\n",
       "      <td>62.0</td>\n",
       "      <td>eutric, gleyic, dystric, calcaric Cambisol; or...</td>\n",
       "      <td>5.0</td>\n",
       "      <td>4.0</td>\n",
       "      <td>6.0</td>\n",
       "      <td>9.7</td>\n",
       "      <td>12</td>\n",
       "    </tr>\n",
       "    <tr>\n",
       "      <th>270</th>\n",
       "      <td>POLYGON ((2486071.58 1118261.72, 2487071.58 11...</td>\n",
       "      <td>470.4324</td>\n",
       "      <td>82.0</td>\n",
       "      <td>eutric, gleyic, dystric, calcaric Cambisol; or...</td>\n",
       "      <td>5.0</td>\n",
       "      <td>4.0</td>\n",
       "      <td>6.0</td>\n",
       "      <td>9.8</td>\n",
       "      <td>12</td>\n",
       "    </tr>\n",
       "    <tr>\n",
       "      <th>490</th>\n",
       "      <td>POLYGON ((2487071.58 1112261.72, 2488071.58 11...</td>\n",
       "      <td>381.0060</td>\n",
       "      <td>82.0</td>\n",
       "      <td>eutric Fluvisol; gleyic, eutric, calcaric Camb...</td>\n",
       "      <td>5.0</td>\n",
       "      <td>4.0</td>\n",
       "      <td>5.0</td>\n",
       "      <td>10.4</td>\n",
       "      <td>3</td>\n",
       "    </tr>\n",
       "  </tbody>\n",
       "</table>\n",
       "</div>"
      ],
      "text/plain": [
       "                                              geometry  altitude  TypoCH_NUM  \\\n",
       "idx                                                                            \n",
       "264  POLYGON ((2486071.58 1112261.72, 2487071.58 11...  374.2680        82.0   \n",
       "265  POLYGON ((2486071.58 1113261.72, 2487071.58 11...  411.3956        12.0   \n",
       "269  POLYGON ((2486071.58 1117261.72, 2487071.58 11...  461.3668        62.0   \n",
       "270  POLYGON ((2486071.58 1118261.72, 2487071.58 11...  470.4324        82.0   \n",
       "490  POLYGON ((2487071.58 1112261.72, 2488071.58 11...  381.0060        82.0   \n",
       "\n",
       "                                              Bodentyp  NAHRSTOFF  WASSERDURC  \\\n",
       "idx                                                                             \n",
       "264          orthic Luvisol; eutric, calcaric Cambisol        4.0         6.0   \n",
       "265          orthic Luvisol; eutric, calcaric Cambisol        4.0         6.0   \n",
       "269  eutric, gleyic, dystric, calcaric Cambisol; or...        5.0         4.0   \n",
       "270  eutric, gleyic, dystric, calcaric Cambisol; or...        5.0         4.0   \n",
       "490  eutric Fluvisol; gleyic, eutric, calcaric Camb...        5.0         4.0   \n",
       "\n",
       "     WASSERSPEI  mean_annual_temp  region  \n",
       "idx                                        \n",
       "264         4.0              10.4      25  \n",
       "265         4.0              10.1      25  \n",
       "269         6.0               9.7      12  \n",
       "270         6.0               9.8      12  \n",
       "490         5.0              10.4       3  "
      ]
     },
     "execution_count": 18,
     "metadata": {},
     "output_type": "execute_result"
    }
   ],
   "source": [
    "# Importation des données depuis le fichier csv\n",
    "df_swiss = pd.read_csv(swiss_data_file_path, index_col=0)\n",
    "\n",
    "# Applications de paramètres liés à la geometry du GeoDataFrame\n",
    "df_swiss['geometry'] = df_swiss['geometry'].apply(wkt.loads)\n",
    "gdf_swiss = gpd.GeoDataFrame(df_swiss, geometry='geometry')\n",
    "gdf_swiss.set_crs(epsg=2056, inplace=True)\n",
    "\n",
    "# Affichage pour vérifier l'importation des données\n",
    "gdf_swiss.head()"
   ]
  },
  {
   "cell_type": "markdown",
   "id": "42821c52-fae6-4715-ae0c-90ac21acad2b",
   "metadata": {},
   "source": [
    "## Jointure des jeux de données\n",
    "\n",
    "Maintenant que les deux jeux sont importer, nous pouvons les combiner. Pour cela, deux nouvelles colonnes vont être créées : `presence` et `count`.\n",
    "La première caractéristiques va permettre d'identifier facilement les cellules dans lesquelles une plante a été détectée, tandi que la seconde permettra de savoir combien de plant ont été observés. Cela nous permettra, si besoin, d'utiliser cette information lors de nos prédictions."
   ]
  },
  {
   "cell_type": "markdown",
   "id": "6dbd4f2d-7799-4b6e-82bb-bb2f60ca98dc",
   "metadata": {},
   "source": [
    "La première étape consiste à modifier le jeu de données contenant notre néophyte, afin que celui-ci soit un geodataframe et que ses coordonnées soient dans le bon format pour être traitées. En effet, les coordonnées utilisées dans ces données sont des coordonnées géographiques, incompatibles avec les données d'enrichissement. Il est donc necessaire de les transformer dans un format qui pourra être exploité plus facilement. Pour cela, le format EPSG:2056 ([LV95](https://fr.wikipedia.org/wiki/Syst%C3%A8me_de_coordonn%C3%A9es_g%C3%A9ographiques_suisse#MN95)) va être utiliser. Pour rappel, il s'agit d'un système de coordonnées [géodésiques](https://fr.wikipedia.org/wiki/G%C3%A9od%C3%A9sique) utilisé principalement en Suisse et format par défaut pour une grande partie des services offerts par l'API de GeoAdmin et utilisé dans nos données d'enrichissement."
   ]
  },
  {
   "cell_type": "code",
   "execution_count": 21,
   "id": "c458785d-c972-4992-86f8-0e9c2b90caf3",
   "metadata": {},
   "outputs": [
    {
     "data": {
      "text/html": [
       "<div>\n",
       "<style scoped>\n",
       "    .dataframe tbody tr th:only-of-type {\n",
       "        vertical-align: middle;\n",
       "    }\n",
       "\n",
       "    .dataframe tbody tr th {\n",
       "        vertical-align: top;\n",
       "    }\n",
       "\n",
       "    .dataframe thead th {\n",
       "        text-align: right;\n",
       "    }\n",
       "</style>\n",
       "<table border=\"1\" class=\"dataframe\">\n",
       "  <thead>\n",
       "    <tr style=\"text-align: right;\">\n",
       "      <th></th>\n",
       "      <th>decimalLatitude</th>\n",
       "      <th>decimalLongitude</th>\n",
       "      <th>elevation</th>\n",
       "      <th>date</th>\n",
       "      <th>geometry</th>\n",
       "    </tr>\n",
       "  </thead>\n",
       "  <tbody>\n",
       "    <tr>\n",
       "      <th>0</th>\n",
       "      <td>46.29982</td>\n",
       "      <td>7.91708</td>\n",
       "      <td>658.0</td>\n",
       "      <td>1899-12-30 00:00:00</td>\n",
       "      <td>POINT (2636863.004 1127713.248)</td>\n",
       "    </tr>\n",
       "    <tr>\n",
       "      <th>1</th>\n",
       "      <td>47.14918</td>\n",
       "      <td>7.50258</td>\n",
       "      <td>500.0</td>\n",
       "      <td>1905-06-29 00:00:00</td>\n",
       "      <td>POINT (2604850.377 1222024.964)</td>\n",
       "    </tr>\n",
       "    <tr>\n",
       "      <th>2</th>\n",
       "      <td>47.14918</td>\n",
       "      <td>7.50258</td>\n",
       "      <td>500.0</td>\n",
       "      <td>1905-06-28 00:00:00</td>\n",
       "      <td>POINT (2604850.377 1222024.964)</td>\n",
       "    </tr>\n",
       "    <tr>\n",
       "      <th>14</th>\n",
       "      <td>46.39338</td>\n",
       "      <td>6.99140</td>\n",
       "      <td>1448.0</td>\n",
       "      <td>1970-01-01 00:00:00</td>\n",
       "      <td>POINT (2565599.774 1138100.346)</td>\n",
       "    </tr>\n",
       "    <tr>\n",
       "      <th>15</th>\n",
       "      <td>46.34986</td>\n",
       "      <td>7.16844</td>\n",
       "      <td>1246.5</td>\n",
       "      <td>1970-01-01 00:00:00</td>\n",
       "      <td>POINT (2579200.238 1133199.999)</td>\n",
       "    </tr>\n",
       "  </tbody>\n",
       "</table>\n",
       "</div>"
      ],
      "text/plain": [
       "    decimalLatitude  decimalLongitude  elevation                 date  \\\n",
       "0          46.29982           7.91708      658.0  1899-12-30 00:00:00   \n",
       "1          47.14918           7.50258      500.0  1905-06-29 00:00:00   \n",
       "2          47.14918           7.50258      500.0  1905-06-28 00:00:00   \n",
       "14         46.39338           6.99140     1448.0  1970-01-01 00:00:00   \n",
       "15         46.34986           7.16844     1246.5  1970-01-01 00:00:00   \n",
       "\n",
       "                           geometry  \n",
       "0   POINT (2636863.004 1127713.248)  \n",
       "1   POINT (2604850.377 1222024.964)  \n",
       "2   POINT (2604850.377 1222024.964)  \n",
       "14  POINT (2565599.774 1138100.346)  \n",
       "15  POINT (2579200.238 1133199.999)  "
      ]
     },
     "execution_count": 21,
     "metadata": {},
     "output_type": "execute_result"
    }
   ],
   "source": [
    "# Tranformation en geodataframe\n",
    "geometry = [Point(xy) for xy in zip(df_berce['decimalLongitude'], df_berce['decimalLatitude'])]\n",
    "gdf_berce = gpd.GeoDataFrame(df_berce, geometry=geometry, crs=\"EPSG:4326\")\n",
    "\n",
    "# Conversion des coordonnées géographiques en LV95\n",
    "gdf_berce = gdf_berce.to_crs(epsg=2056)\n",
    "\n",
    "gdf_berce.head()"
   ]
  },
  {
   "cell_type": "markdown",
   "id": "b0c70f03-75fb-4473-b9a5-63c31b461774",
   "metadata": {},
   "source": [
    "Nous pouvons maintenant ajouter les nouvelles colonnes à notre geodataframe contenant les données environnementales de la Suisse et les remplir avec les données associées.\n",
    "\n",
    "Note : Cette étape peut prendre un peu de temps, au vue du nombre de cellules à vérifier."
   ]
  },
  {
   "cell_type": "code",
   "execution_count": 22,
   "id": "754ae442-2cb0-456a-aa74-081113e6b100",
   "metadata": {},
   "outputs": [
    {
     "ename": "KeyboardInterrupt",
     "evalue": "",
     "output_type": "error",
     "traceback": [
      "\u001b[1;31m---------------------------------------------------------------------------\u001b[0m",
      "\u001b[1;31mKeyboardInterrupt\u001b[0m                         Traceback (most recent call last)",
      "Cell \u001b[1;32mIn[22], line 8\u001b[0m\n\u001b[0;32m      5\u001b[0m \u001b[38;5;66;03m# Comptage des points présents dans chaque zone\u001b[39;00m\n\u001b[0;32m      6\u001b[0m \u001b[38;5;28;01mfor\u001b[39;00m i, cellule \u001b[38;5;129;01min\u001b[39;00m gdf_swiss\u001b[38;5;241m.\u001b[39miterrows():\n\u001b[0;32m      7\u001b[0m     \u001b[38;5;66;03m# Compter les points de gdf_berce qui sont dans la zone actuelle\u001b[39;00m\n\u001b[1;32m----> 8\u001b[0m     points_in_zone \u001b[38;5;241m=\u001b[39m gdf_berce[gdf_berce\u001b[38;5;241m.\u001b[39mgeometry\u001b[38;5;241m.\u001b[39mwithin(cellule\u001b[38;5;241m.\u001b[39mgeometry)]\n\u001b[0;32m      9\u001b[0m     \u001b[38;5;66;03m# Modification des nouvelles colonnes en cas de présence de la plante invasive\u001b[39;00m\n\u001b[0;32m     10\u001b[0m     \u001b[38;5;28;01mif\u001b[39;00m \u001b[38;5;28mlen\u001b[39m(points_in_zone) \u001b[38;5;241m>\u001b[39m \u001b[38;5;241m0\u001b[39m :\n",
      "File \u001b[1;32m~\\anaconda3\\envs\\GML\\Lib\\site-packages\\geopandas\\base.py:3443\u001b[0m, in \u001b[0;36mGeoPandasBase.within\u001b[1;34m(self, other, align)\u001b[0m\n\u001b[0;32m   3331\u001b[0m \u001b[38;5;28;01mdef\u001b[39;00m \u001b[38;5;21mwithin\u001b[39m(\u001b[38;5;28mself\u001b[39m, other, align\u001b[38;5;241m=\u001b[39m\u001b[38;5;28;01mNone\u001b[39;00m):\n\u001b[0;32m   3332\u001b[0m \u001b[38;5;250m    \u001b[39m\u001b[38;5;124;03m\"\"\"Returns a ``Series`` of ``dtype('bool')`` with value ``True`` for\u001b[39;00m\n\u001b[0;32m   3333\u001b[0m \u001b[38;5;124;03m    each aligned geometry that is within `other`.\u001b[39;00m\n\u001b[0;32m   3334\u001b[0m \n\u001b[1;32m   (...)\u001b[0m\n\u001b[0;32m   3441\u001b[0m \u001b[38;5;124;03m    GeoSeries.contains\u001b[39;00m\n\u001b[0;32m   3442\u001b[0m \u001b[38;5;124;03m    \"\"\"\u001b[39;00m\n\u001b[1;32m-> 3443\u001b[0m     \u001b[38;5;28;01mreturn\u001b[39;00m _binary_op(\u001b[38;5;124m\"\u001b[39m\u001b[38;5;124mwithin\u001b[39m\u001b[38;5;124m\"\u001b[39m, \u001b[38;5;28mself\u001b[39m, other, align)\n",
      "File \u001b[1;32m~\\anaconda3\\envs\\GML\\Lib\\site-packages\\geopandas\\base.py:76\u001b[0m, in \u001b[0;36m_binary_op\u001b[1;34m(op, this, other, align, *args, **kwargs)\u001b[0m\n\u001b[0;32m     73\u001b[0m \u001b[38;5;28;01mdef\u001b[39;00m \u001b[38;5;21m_binary_op\u001b[39m(op, this, other, align, \u001b[38;5;241m*\u001b[39margs, \u001b[38;5;241m*\u001b[39m\u001b[38;5;241m*\u001b[39mkwargs):\n\u001b[0;32m     74\u001b[0m     \u001b[38;5;66;03m# type: (str, GeoSeries, GeoSeries, args/kwargs) -> Series[bool/float]\u001b[39;00m\n\u001b[0;32m     75\u001b[0m \u001b[38;5;250m    \u001b[39m\u001b[38;5;124;03m\"\"\"Binary operation on GeoSeries objects that returns a Series\"\"\"\u001b[39;00m\n\u001b[1;32m---> 76\u001b[0m     data, index \u001b[38;5;241m=\u001b[39m _delegate_binary_method(op, this, other, align, \u001b[38;5;241m*\u001b[39margs, \u001b[38;5;241m*\u001b[39m\u001b[38;5;241m*\u001b[39mkwargs)\n\u001b[0;32m     77\u001b[0m     \u001b[38;5;28;01mreturn\u001b[39;00m Series(data, index\u001b[38;5;241m=\u001b[39mindex)\n",
      "File \u001b[1;32m~\\anaconda3\\envs\\GML\\Lib\\site-packages\\geopandas\\base.py:60\u001b[0m, in \u001b[0;36m_delegate_binary_method\u001b[1;34m(op, this, other, align, *args, **kwargs)\u001b[0m\n\u001b[0;32m     57\u001b[0m \u001b[38;5;28;01melse\u001b[39;00m:\n\u001b[0;32m     58\u001b[0m     \u001b[38;5;28;01mraise\u001b[39;00m \u001b[38;5;167;01mTypeError\u001b[39;00m(\u001b[38;5;28mtype\u001b[39m(this), \u001b[38;5;28mtype\u001b[39m(other))\n\u001b[1;32m---> 60\u001b[0m data \u001b[38;5;241m=\u001b[39m \u001b[38;5;28mgetattr\u001b[39m(a_this, op)(other, \u001b[38;5;241m*\u001b[39margs, \u001b[38;5;241m*\u001b[39m\u001b[38;5;241m*\u001b[39mkwargs)\n\u001b[0;32m     61\u001b[0m \u001b[38;5;28;01mreturn\u001b[39;00m data, this\u001b[38;5;241m.\u001b[39mindex\n",
      "File \u001b[1;32m~\\anaconda3\\envs\\GML\\Lib\\site-packages\\geopandas\\array.py:732\u001b[0m, in \u001b[0;36mGeometryArray.within\u001b[1;34m(self, other)\u001b[0m\n\u001b[0;32m    731\u001b[0m \u001b[38;5;28;01mdef\u001b[39;00m \u001b[38;5;21mwithin\u001b[39m(\u001b[38;5;28mself\u001b[39m, other):\n\u001b[1;32m--> 732\u001b[0m     \u001b[38;5;28;01mreturn\u001b[39;00m \u001b[38;5;28mself\u001b[39m\u001b[38;5;241m.\u001b[39m_binary_method(\u001b[38;5;124m\"\u001b[39m\u001b[38;5;124mwithin\u001b[39m\u001b[38;5;124m\"\u001b[39m, \u001b[38;5;28mself\u001b[39m, other)\n",
      "File \u001b[1;32m~\\anaconda3\\envs\\GML\\Lib\\site-packages\\geopandas\\array.py:699\u001b[0m, in \u001b[0;36mGeometryArray._binary_method\u001b[1;34m(op, left, right, **kwargs)\u001b[0m\n\u001b[0;32m    696\u001b[0m         _crs_mismatch_warn(left, right, stacklevel\u001b[38;5;241m=\u001b[39m\u001b[38;5;241m7\u001b[39m)\n\u001b[0;32m    697\u001b[0m     right \u001b[38;5;241m=\u001b[39m right\u001b[38;5;241m.\u001b[39m_data\n\u001b[1;32m--> 699\u001b[0m \u001b[38;5;28;01mreturn\u001b[39;00m \u001b[38;5;28mgetattr\u001b[39m(shapely, op)(left\u001b[38;5;241m.\u001b[39m_data, right, \u001b[38;5;241m*\u001b[39m\u001b[38;5;241m*\u001b[39mkwargs)\n",
      "File \u001b[1;32m~\\anaconda3\\envs\\GML\\Lib\\site-packages\\shapely\\decorators.py:77\u001b[0m, in \u001b[0;36mmultithreading_enabled.<locals>.wrapped\u001b[1;34m(*args, **kwargs)\u001b[0m\n\u001b[0;32m     75\u001b[0m     \u001b[38;5;28;01mfor\u001b[39;00m arr \u001b[38;5;129;01min\u001b[39;00m array_args:\n\u001b[0;32m     76\u001b[0m         arr\u001b[38;5;241m.\u001b[39mflags\u001b[38;5;241m.\u001b[39mwriteable \u001b[38;5;241m=\u001b[39m \u001b[38;5;28;01mFalse\u001b[39;00m\n\u001b[1;32m---> 77\u001b[0m     \u001b[38;5;28;01mreturn\u001b[39;00m func(\u001b[38;5;241m*\u001b[39margs, \u001b[38;5;241m*\u001b[39m\u001b[38;5;241m*\u001b[39mkwargs)\n\u001b[0;32m     78\u001b[0m \u001b[38;5;28;01mfinally\u001b[39;00m:\n\u001b[0;32m     79\u001b[0m     \u001b[38;5;28;01mfor\u001b[39;00m arr, old_flag \u001b[38;5;129;01min\u001b[39;00m \u001b[38;5;28mzip\u001b[39m(array_args, old_flags):\n",
      "File \u001b[1;32m~\\anaconda3\\envs\\GML\\Lib\\site-packages\\shapely\\predicates.py:923\u001b[0m, in \u001b[0;36mwithin\u001b[1;34m(a, b, **kwargs)\u001b[0m\n\u001b[0;32m    875\u001b[0m \u001b[38;5;129m@multithreading_enabled\u001b[39m\n\u001b[0;32m    876\u001b[0m \u001b[38;5;28;01mdef\u001b[39;00m \u001b[38;5;21mwithin\u001b[39m(a, b, \u001b[38;5;241m*\u001b[39m\u001b[38;5;241m*\u001b[39mkwargs):\n\u001b[0;32m    877\u001b[0m \u001b[38;5;250m    \u001b[39m\u001b[38;5;124;03m\"\"\"Returns True if geometry A is completely inside geometry B.\u001b[39;00m\n\u001b[0;32m    878\u001b[0m \n\u001b[0;32m    879\u001b[0m \u001b[38;5;124;03m    A is within B if no points of A lie in the exterior of B and at least one\u001b[39;00m\n\u001b[1;32m   (...)\u001b[0m\n\u001b[0;32m    921\u001b[0m \u001b[38;5;124;03m    False\u001b[39;00m\n\u001b[0;32m    922\u001b[0m \u001b[38;5;124;03m    \"\"\"\u001b[39;00m\n\u001b[1;32m--> 923\u001b[0m     \u001b[38;5;28;01mreturn\u001b[39;00m lib\u001b[38;5;241m.\u001b[39mwithin(a, b, \u001b[38;5;241m*\u001b[39m\u001b[38;5;241m*\u001b[39mkwargs)\n",
      "\u001b[1;31mKeyboardInterrupt\u001b[0m: "
     ]
    }
   ],
   "source": [
    "# Création des nouvelles colonnes, initialisées à 0\n",
    "gdf_swiss['Presence'] = 0\n",
    "gdf_swiss['Count'] = 0\n",
    "\n",
    "# Comptage des points présents dans chaque zone\n",
    "for i, cellule in gdf_swiss.iterrows():\n",
    "    # Compter les points de gdf_berce qui sont dans la zone actuelle\n",
    "    points_in_zone = gdf_berce[gdf_berce.geometry.within(cellule.geometry)]\n",
    "    # Modification des nouvelles colonnes en cas de présence de la plante invasive\n",
    "    if len(points_in_zone) > 0 :\n",
    "        gdf_swiss.at[i, 'Presence'] = 1\n",
    "        gdf_swiss.at[i, 'Count'] += len(points_in_zone)\n",
    "\n",
    "gdf_swiss.head()"
   ]
  },
  {
   "cell_type": "markdown",
   "id": "46130425-ec1f-4289-804c-1d208381e6c0",
   "metadata": {},
   "source": [
    "## Sauvegarde des données\n",
    "Afin de ne pas devoir effectuer le traitement précédent dans chaque notebook, le geodataframe doit être enregistré."
   ]
  },
  {
   "cell_type": "code",
   "execution_count": 41,
   "id": "ff72ab43-2e00-4a8c-b0d6-c2b099369377",
   "metadata": {},
   "outputs": [
    {
     "name": "stdout",
     "output_type": "stream",
     "text": [
      "Le DataFrame a été sauvegardé dans le fichier '../../data/processed_enhanced_data_with_presence.csv'\n"
     ]
    }
   ],
   "source": [
    "# Sauvegarde du DataFrame dans un fichier CSV\n",
    "filename = '../../data/processed_enhanced_data_with_presence.csv'\n",
    "gdf_swiss.to_csv(filename, index=True, encoding='utf-8')\n",
    "\n",
    "print(f\"Le DataFrame a été sauvegardé dans à l'emplacement '{filename}'\")"
   ]
  },
  {
   "cell_type": "code",
   "execution_count": null,
   "id": "90b4d614-d2dd-4aad-a808-84febd1c4040",
   "metadata": {},
   "outputs": [],
   "source": []
  }
 ],
 "metadata": {
  "kernelspec": {
   "display_name": "GML",
   "language": "python",
   "name": "gml"
  },
  "language_info": {
   "codemirror_mode": {
    "name": "ipython",
    "version": 3
   },
   "file_extension": ".py",
   "mimetype": "text/x-python",
   "name": "python",
   "nbconvert_exporter": "python",
   "pygments_lexer": "ipython3",
   "version": "3.12.7"
  }
 },
 "nbformat": 4,
 "nbformat_minor": 5
}

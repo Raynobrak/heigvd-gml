{
 "cells": [
  {
   "cell_type": "markdown",
   "metadata": {},
   "source": [
    "# Self-Oranganizing Map / Auto-encodeur"
   ]
  },
  {
   "cell_type": "markdown",
   "metadata": {},
   "source": [
    "## Tests avec notre dataset"
   ]
  },
  {
   "cell_type": "code",
   "execution_count": 361,
   "metadata": {},
   "outputs": [],
   "source": [
    "# Open swiss data GeoDataFrame\n",
    "import geopandas as gpd\n",
    "import pandas as pd\n",
    "import numpy as np"
   ]
  },
  {
   "cell_type": "code",
   "execution_count": 362,
   "metadata": {},
   "outputs": [
    {
     "data": {
      "text/html": [
       "<div>\n",
       "<style scoped>\n",
       "    .dataframe tbody tr th:only-of-type {\n",
       "        vertical-align: middle;\n",
       "    }\n",
       "\n",
       "    .dataframe tbody tr th {\n",
       "        vertical-align: top;\n",
       "    }\n",
       "\n",
       "    .dataframe thead th {\n",
       "        text-align: right;\n",
       "    }\n",
       "</style>\n",
       "<table border=\"1\" class=\"dataframe\">\n",
       "  <thead>\n",
       "    <tr style=\"text-align: right;\">\n",
       "      <th></th>\n",
       "      <th>idx</th>\n",
       "      <th>geometry</th>\n",
       "      <th>altitude</th>\n",
       "      <th>TypoCH_NUM</th>\n",
       "      <th>Bodentyp</th>\n",
       "      <th>NAHRSTOFF</th>\n",
       "      <th>WASSERDURC</th>\n",
       "      <th>WASSERSPEI</th>\n",
       "    </tr>\n",
       "  </thead>\n",
       "  <tbody>\n",
       "    <tr>\n",
       "      <th>0</th>\n",
       "      <td>35</td>\n",
       "      <td>POLYGON ((2485071.58 1109261.72, 2486071.58 11...</td>\n",
       "      <td>363.5148</td>\n",
       "      <td>62.0</td>\n",
       "      <td>orthic Luvisol; eutric, calcaric Cambisol</td>\n",
       "      <td>4.0</td>\n",
       "      <td>6.0</td>\n",
       "      <td>4.0</td>\n",
       "    </tr>\n",
       "    <tr>\n",
       "      <th>1</th>\n",
       "      <td>36</td>\n",
       "      <td>POLYGON ((2485071.58 1110261.72, 2486071.58 11...</td>\n",
       "      <td>358.93480000000005</td>\n",
       "      <td>62.0</td>\n",
       "      <td>orthic Luvisol; eutric, calcaric Cambisol</td>\n",
       "      <td>4.0</td>\n",
       "      <td>6.0</td>\n",
       "      <td>4.0</td>\n",
       "    </tr>\n",
       "    <tr>\n",
       "      <th>2</th>\n",
       "      <td>37</td>\n",
       "      <td>POLYGON ((2485071.58 1111261.72, 2486071.58 11...</td>\n",
       "      <td>387.6868</td>\n",
       "      <td>12.0</td>\n",
       "      <td>-</td>\n",
       "      <td>-9999.0</td>\n",
       "      <td>-9999.0</td>\n",
       "      <td>-9999.0</td>\n",
       "    </tr>\n",
       "    <tr>\n",
       "      <th>3</th>\n",
       "      <td>261</td>\n",
       "      <td>POLYGON ((2486071.58 1109261.72, 2487071.58 11...</td>\n",
       "      <td>415.6684</td>\n",
       "      <td>62.0</td>\n",
       "      <td>eutric, dystric Cambisol; eutric Regosol; spod...</td>\n",
       "      <td>4.0</td>\n",
       "      <td>4.0</td>\n",
       "      <td>4.0</td>\n",
       "    </tr>\n",
       "    <tr>\n",
       "      <th>4</th>\n",
       "      <td>262</td>\n",
       "      <td>POLYGON ((2486071.58 1110261.72, 2487071.58 11...</td>\n",
       "      <td>368.5936</td>\n",
       "      <td>62.0</td>\n",
       "      <td>eutric, dystric Cambisol; eutric Regosol; spod...</td>\n",
       "      <td>4.0</td>\n",
       "      <td>4.0</td>\n",
       "      <td>4.0</td>\n",
       "    </tr>\n",
       "  </tbody>\n",
       "</table>\n",
       "</div>"
      ],
      "text/plain": [
       "   idx                                           geometry            altitude  \\\n",
       "0   35  POLYGON ((2485071.58 1109261.72, 2486071.58 11...            363.5148   \n",
       "1   36  POLYGON ((2485071.58 1110261.72, 2486071.58 11...  358.93480000000005   \n",
       "2   37  POLYGON ((2485071.58 1111261.72, 2486071.58 11...            387.6868   \n",
       "3  261  POLYGON ((2486071.58 1109261.72, 2487071.58 11...            415.6684   \n",
       "4  262  POLYGON ((2486071.58 1110261.72, 2487071.58 11...            368.5936   \n",
       "\n",
       "  TypoCH_NUM                                           Bodentyp NAHRSTOFF  \\\n",
       "0       62.0          orthic Luvisol; eutric, calcaric Cambisol       4.0   \n",
       "1       62.0          orthic Luvisol; eutric, calcaric Cambisol       4.0   \n",
       "2       12.0                                                  -   -9999.0   \n",
       "3       62.0  eutric, dystric Cambisol; eutric Regosol; spod...       4.0   \n",
       "4       62.0  eutric, dystric Cambisol; eutric Regosol; spod...       4.0   \n",
       "\n",
       "  WASSERDURC WASSERSPEI  \n",
       "0        6.0        4.0  \n",
       "1        6.0        4.0  \n",
       "2    -9999.0    -9999.0  \n",
       "3        4.0        4.0  \n",
       "4        4.0        4.0  "
      ]
     },
     "execution_count": 362,
     "metadata": {},
     "output_type": "execute_result"
    }
   ],
   "source": [
    "# Load the data\n",
    "gdf = gpd.read_file('data/swiss_data_all.csv')\n",
    "\n",
    "gdf.head()"
   ]
  },
  {
   "cell_type": "code",
   "execution_count": 363,
   "metadata": {},
   "outputs": [],
   "source": [
    "# Add x and y columns to the GeoDataFrame\n",
    "from shapely import wkt\n",
    "\n",
    "gdf['geometry'] = gdf['geometry'].apply(wkt.loads)"
   ]
  },
  {
   "cell_type": "code",
   "execution_count": 364,
   "metadata": {},
   "outputs": [],
   "source": [
    "gdf['x'] = None\n",
    "gdf['y'] = None\n",
    "\n",
    "for idx, row in gdf.iterrows():\n",
    "    polygon = row['geometry']\n",
    "    x, y = polygon.exterior.xy\n",
    "    gdf.at[idx, 'x'] = x[0]\n",
    "    gdf.at[idx, 'y'] = y[0]"
   ]
  },
  {
   "cell_type": "code",
   "execution_count": 365,
   "metadata": {},
   "outputs": [],
   "source": [
    "gdf['altitude'] = gdf['altitude'].astype(float)\n",
    "gdf['TypoCH_NUM'] = gdf['TypoCH_NUM'].astype(float)\n",
    "gdf['NAHRSTOFF'] = gdf['NAHRSTOFF'].astype(float)\n",
    "gdf['WASSERDURC'] = gdf['WASSERDURC'].astype(float)\n",
    "gdf['WASSERSPEI'] = gdf['WASSERSPEI'].astype(float)\n",
    "\n",
    "# Drop the geometry column\n",
    "gdf = gdf.drop(columns='geometry')"
   ]
  },
  {
   "cell_type": "code",
   "execution_count": 366,
   "metadata": {},
   "outputs": [],
   "source": [
    "# Étape 1 : Fractionner les chaînes de caractères en listes\n",
    "gdf['Bodentyp_split'] = gdf['Bodentyp'].str.split('; ')\n",
    "\n",
    "# Étape 2 : Identifier tous les mots uniques\n",
    "all_labels = set(label.strip() for sublist in gdf['Bodentyp_split'] for label in sublist)\n",
    "\n",
    "# Étape 3 : Créer des colonnes dummies\n",
    "for label in all_labels:\n",
    "    gdf[\"Bodentyp_\"+label] = gdf['Bodentyp_split'].apply(lambda x: int(label in x))\n",
    "\n",
    "# Supprimer la colonne temporaire si nécessaire\n",
    "gdf = gdf.drop(columns=['Bodentyp_split'])\n",
    "gdf = gdf.drop(columns=['Bodentyp'])\n",
    "gdf = gdf.drop(columns=['idx'])"
   ]
  },
  {
   "cell_type": "code",
   "execution_count": 367,
   "metadata": {},
   "outputs": [],
   "source": [
    "# Dummies TypoCH_NUM, NAHRSTOFF, WASSERDURC et WASSERSPEI\n",
    "gdf = pd.get_dummies(gdf, columns=['TypoCH_NUM', 'NAHRSTOFF', 'WASSERDURC', 'WASSERSPEI'])"
   ]
  },
  {
   "cell_type": "code",
   "execution_count": 368,
   "metadata": {},
   "outputs": [],
   "source": [
    "#Normalisation des données numériques\n",
    "from sklearn.preprocessing import StandardScaler\n",
    "\n",
    "scaler = StandardScaler()\n",
    "\n",
    "gdf[['altitude', 'x', 'y']] = scaler.fit_transform(gdf[['altitude', 'x', 'y']])"
   ]
  },
  {
   "cell_type": "code",
   "execution_count": 369,
   "metadata": {},
   "outputs": [],
   "source": [
    "#Remove x and y columns\n",
    "gdfWithoutCoordinate = gdf.drop(columns=['x', 'y'])"
   ]
  },
  {
   "cell_type": "markdown",
   "metadata": {},
   "source": [
    "SOM code starts here"
   ]
  },
  {
   "cell_type": "code",
   "execution_count": 370,
   "metadata": {},
   "outputs": [
    {
     "data": {
      "text/plain": [
       "(42444, 94)"
      ]
     },
     "execution_count": 370,
     "metadata": {},
     "output_type": "execute_result"
    }
   ],
   "source": [
    "gdf.shape"
   ]
  },
  {
   "cell_type": "code",
   "execution_count": 371,
   "metadata": {},
   "outputs": [],
   "source": [
    "from sklearn_som.som import SOM\n",
    "import matplotlib.pyplot as plt"
   ]
  },
  {
   "cell_type": "code",
   "execution_count": 372,
   "metadata": {},
   "outputs": [],
   "source": [
    "scaler = StandardScaler()\n",
    "data_scaled = scaler.fit_transform(gdfWithoutCoordinate)\n",
    "from sklearn.decomposition import PCA"
   ]
  },
  {
   "cell_type": "code",
   "execution_count": 390,
   "metadata": {},
   "outputs": [],
   "source": [
    "som = SOM(m=25, n=25, dim=data_scaled.shape[1], lr=0.6, max_iter=2000, random_state=420)\n",
    "som.fit(data_scaled) "
   ]
  },
  {
   "cell_type": "code",
   "execution_count": 391,
   "metadata": {},
   "outputs": [
    {
     "data": {
      "image/png": "[encoded data removed]",
      "text/plain": [
       "<Figure size 640x480 with 2 Axes>"
      ]
     },
     "metadata": {},
     "output_type": "display_data"
    }
   ],
   "source": [
    "def plot_u_matrix(som):\n",
    "    umatrix = np.zeros((som.m, som.n))\n",
    "    for i in range(som.m):\n",
    "        for j in range(som.n):\n",
    "            # Calculate distances to neighbors\n",
    "            neighbors = []\n",
    "            if i > 0: neighbors.append(som.weights[i-1, j])\n",
    "            if i < som.m-1: neighbors.append(som.weights[i+1, j])\n",
    "            if j > 0: neighbors.append(som.weights[i, j-1])\n",
    "            if j < som.n-1: neighbors.append(som.weights[i, j+1])\n",
    "            # Average distance to neighbors\n",
    "            umatrix[i, j] = np.mean([np.linalg.norm(som.weights[i, j] - n) for n in neighbors])\n",
    "\n",
    "    # Plot as heatmap\n",
    "    plt.imshow(umatrix, cmap='viridis')\n",
    "    plt.colorbar(label='Distance')\n",
    "    plt.title('U-Matrix')\n",
    "    plt.show()\n",
    "\n",
    "# Call the function\n",
    "plot_u_matrix(som)"
   ]
  },
  {
   "cell_type": "code",
   "execution_count": 392,
   "metadata": {},
   "outputs": [
    {
     "data": {
      "text/plain": [
       "(625, 92)"
      ]
     },
     "execution_count": 392,
     "metadata": {},
     "output_type": "execute_result"
    }
   ],
   "source": [
    "som.weights.shape"
   ]
  },
  {
   "cell_type": "code",
   "execution_count": 393,
   "metadata": {},
   "outputs": [
    {
     "data": {
      "text/plain": [
       "<matplotlib.image.AxesImage at 0x13dca85c530>"
      ]
     },
     "execution_count": 393,
     "metadata": {},
     "output_type": "execute_result"
    },
    {
     "data": {
      "image/png": "[encoded data removed]",
      "text/plain": [
       "<Figure size 640x480 with 1 Axes>"
      ]
     },
     "metadata": {},
     "output_type": "display_data"
    }
   ],
   "source": [
    "plt.imshow(np.reshape(som.weights[:,0], (25, 25)))"
   ]
  },
  {
   "cell_type": "code",
   "execution_count": 394,
   "metadata": {},
   "outputs": [
    {
     "data": {
      "image/png": "[encoded data removed]",
      "text/plain": [
       "<Figure size 640x480 with 2 Axes>"
      ]
     },
     "metadata": {},
     "output_type": "display_data"
    }
   ],
   "source": [
    "# Compute the average weights across all features\n",
    "average_weights = np.mean(som.weights, axis=1)\n",
    "\n",
    "# Reshape the average weights to the SOM grid shape\n",
    "average_weights_reshaped = np.reshape(average_weights, (25, 25))\n",
    "\n",
    "# Plot the average map\n",
    "plt.imshow(average_weights_reshaped, cmap='viridis')\n",
    "plt.colorbar(label='Average Weight')\n",
    "plt.title('Average SOM Weight Map')\n",
    "plt.show()"
   ]
  },
  {
   "cell_type": "markdown",
   "metadata": {},
   "source": [
    "## SOM tests with the wine dataset\n",
    "\n",
    "To figure out how it works"
   ]
  },
  {
   "cell_type": "code",
   "execution_count": 354,
   "metadata": {},
   "outputs": [],
   "source": [
    "from sklearn.datasets import load_wine\n",
    "wine = load_wine()"
   ]
  },
  {
   "cell_type": "code",
   "execution_count": null,
   "metadata": {},
   "outputs": [],
   "source": [
    "wine = wine.data\n",
    "wine.shape"
   ]
  },
  {
   "cell_type": "code",
   "execution_count": 356,
   "metadata": {},
   "outputs": [],
   "source": [
    "m = 5\n",
    "n = 5\n",
    "wine_som = SOM(m=m, n=n, lr=0.5, dim=wine.shape[1])\n",
    "wine_som.fit(wine)"
   ]
  },
  {
   "cell_type": "code",
   "execution_count": null,
   "metadata": {},
   "outputs": [],
   "source": [
    "plot_u_matrix(wine_som)"
   ]
  },
  {
   "cell_type": "code",
   "execution_count": null,
   "metadata": {},
   "outputs": [],
   "source": [
    "plt.imshow(np.reshape(wine_som.weights[:,0], (m, n)))"
   ]
  },
  {
   "cell_type": "code",
   "execution_count": null,
   "metadata": {},
   "outputs": [],
   "source": [
    "# Compute the average weights across all features\n",
    "average_wine_weights = np.mean(wine_som.weights, axis=1)\n",
    "\n",
    "# Reshape the average weights to the SOM grid shape\n",
    "average_wine_weights_reshaped = np.reshape(average_wine_weights, (m, n))\n",
    "\n",
    "# Plot the average map\n",
    "plt.imshow(average_wine_weights_reshaped, cmap='viridis')\n",
    "plt.colorbar(label='Average Weight')\n",
    "plt.title('Average SOM Weight Map')\n",
    "plt.show()"
   ]
  }
 ],
 "metadata": {
  "kernelspec": {
   "display_name": ".venv",
   "language": "python",
   "name": "python3"
  },
  "language_info": {
   "codemirror_mode": {
    "name": "ipython",
    "version": 3
   },
   "file_extension": ".py",
   "mimetype": "text/x-python",
   "name": "python",
   "nbconvert_exporter": "python",
   "pygments_lexer": "ipython3",
   "version": "3.12.5"
  }
 },
 "nbformat": 4,
 "nbformat_minor": 2
}

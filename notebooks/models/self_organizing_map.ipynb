{
 "cells": [
  {
   "cell_type": "markdown",
   "metadata": {},
   "source": [
    "# Self-Oranganizing Map\n",
    "\n",
    "Ce notebook a comme but de voir ce qu'un SOM peut faire avec nos données."
   ]
  },
  {
   "cell_type": "markdown",
   "metadata": {},
   "source": [
    "## Tests avec notre dataset"
   ]
  },
  {
   "cell_type": "code",
   "execution_count": 1,
   "metadata": {},
   "outputs": [],
   "source": [
    "import geopandas as gpd\n",
    "import matplotlib.pyplot as plt\n",
    "import numpy as np\n",
    "import pandas as pd\n",
    "from shapely import wkt\n",
    "from sklearn.preprocessing import StandardScaler\n",
    "from sklearn_som.som import SOM"
   ]
  },
  {
   "cell_type": "code",
   "execution_count": 2,
   "metadata": {},
   "outputs": [
    {
     "data": {
      "text/html": [
       "<div>\n",
       "<style scoped>\n",
       "    .dataframe tbody tr th:only-of-type {\n",
       "        vertical-align: middle;\n",
       "    }\n",
       "\n",
       "    .dataframe tbody tr th {\n",
       "        vertical-align: top;\n",
       "    }\n",
       "\n",
       "    .dataframe thead th {\n",
       "        text-align: right;\n",
       "    }\n",
       "</style>\n",
       "<table border=\"1\" class=\"dataframe\">\n",
       "  <thead>\n",
       "    <tr style=\"text-align: right;\">\n",
       "      <th></th>\n",
       "      <th>geometry</th>\n",
       "      <th>Altitude</th>\n",
       "      <th>NaturalHabitat</th>\n",
       "      <th>SoilType</th>\n",
       "      <th>WaterRetention</th>\n",
       "      <th>NutrientContent</th>\n",
       "      <th>WaterPermeability</th>\n",
       "      <th>Temperature</th>\n",
       "    </tr>\n",
       "    <tr>\n",
       "      <th>idx</th>\n",
       "      <th></th>\n",
       "      <th></th>\n",
       "      <th></th>\n",
       "      <th></th>\n",
       "      <th></th>\n",
       "      <th></th>\n",
       "      <th></th>\n",
       "      <th></th>\n",
       "    </tr>\n",
       "  </thead>\n",
       "  <tbody>\n",
       "    <tr>\n",
       "      <th>35</th>\n",
       "      <td>POLYGON ((2485071.58 1109261.72, 2486071.58 11...</td>\n",
       "      <td>363.5148</td>\n",
       "      <td>62.0</td>\n",
       "      <td>orthic Luvisol; eutric, calcaric Cambisol</td>\n",
       "      <td>4.0</td>\n",
       "      <td>6.0</td>\n",
       "      <td>4.0</td>\n",
       "      <td>5.2</td>\n",
       "    </tr>\n",
       "    <tr>\n",
       "      <th>36</th>\n",
       "      <td>POLYGON ((2485071.58 1110261.72, 2486071.58 11...</td>\n",
       "      <td>358.9348</td>\n",
       "      <td>62.0</td>\n",
       "      <td>orthic Luvisol; eutric, calcaric Cambisol</td>\n",
       "      <td>4.0</td>\n",
       "      <td>6.0</td>\n",
       "      <td>4.0</td>\n",
       "      <td>5.2</td>\n",
       "    </tr>\n",
       "    <tr>\n",
       "      <th>261</th>\n",
       "      <td>POLYGON ((2486071.58 1109261.72, 2487071.58 11...</td>\n",
       "      <td>415.6684</td>\n",
       "      <td>62.0</td>\n",
       "      <td>eutric, dystric Cambisol; eutric Regosol; spod...</td>\n",
       "      <td>4.0</td>\n",
       "      <td>4.0</td>\n",
       "      <td>4.0</td>\n",
       "      <td>5.3</td>\n",
       "    </tr>\n",
       "    <tr>\n",
       "      <th>262</th>\n",
       "      <td>POLYGON ((2486071.58 1110261.72, 2487071.58 11...</td>\n",
       "      <td>368.5936</td>\n",
       "      <td>62.0</td>\n",
       "      <td>eutric, dystric Cambisol; eutric Regosol; spod...</td>\n",
       "      <td>4.0</td>\n",
       "      <td>4.0</td>\n",
       "      <td>4.0</td>\n",
       "      <td>5.3</td>\n",
       "    </tr>\n",
       "    <tr>\n",
       "      <th>263</th>\n",
       "      <td>POLYGON ((2486071.58 1111261.72, 2487071.58 11...</td>\n",
       "      <td>352.9472</td>\n",
       "      <td>82.0</td>\n",
       "      <td>orthic Luvisol; eutric, calcaric Cambisol</td>\n",
       "      <td>4.0</td>\n",
       "      <td>6.0</td>\n",
       "      <td>4.0</td>\n",
       "      <td>5.3</td>\n",
       "    </tr>\n",
       "  </tbody>\n",
       "</table>\n",
       "</div>"
      ],
      "text/plain": [
       "                                              geometry  Altitude  \\\n",
       "idx                                                                \n",
       "35   POLYGON ((2485071.58 1109261.72, 2486071.58 11...  363.5148   \n",
       "36   POLYGON ((2485071.58 1110261.72, 2486071.58 11...  358.9348   \n",
       "261  POLYGON ((2486071.58 1109261.72, 2487071.58 11...  415.6684   \n",
       "262  POLYGON ((2486071.58 1110261.72, 2487071.58 11...  368.5936   \n",
       "263  POLYGON ((2486071.58 1111261.72, 2487071.58 11...  352.9472   \n",
       "\n",
       "     NaturalHabitat                                           SoilType  \\\n",
       "idx                                                                      \n",
       "35             62.0          orthic Luvisol; eutric, calcaric Cambisol   \n",
       "36             62.0          orthic Luvisol; eutric, calcaric Cambisol   \n",
       "261            62.0  eutric, dystric Cambisol; eutric Regosol; spod...   \n",
       "262            62.0  eutric, dystric Cambisol; eutric Regosol; spod...   \n",
       "263            82.0          orthic Luvisol; eutric, calcaric Cambisol   \n",
       "\n",
       "     WaterRetention  NutrientContent  WaterPermeability  Temperature  \n",
       "idx                                                                   \n",
       "35              4.0              6.0                4.0          5.2  \n",
       "36              4.0              6.0                4.0          5.2  \n",
       "261             4.0              4.0                4.0          5.3  \n",
       "262             4.0              4.0                4.0          5.3  \n",
       "263             4.0              6.0                4.0          5.3  "
      ]
     },
     "execution_count": 2,
     "metadata": {},
     "output_type": "execute_result"
    }
   ],
   "source": [
    "csv_path = '../../data/processed/processed_enhanced_swiss_data.csv'\n",
    "\n",
    "# Lecture du GeoDataFrame à partir du CSV\n",
    "gdf = pd.read_csv(csv_path)\n",
    "\n",
    "gdf['geometry'] = gdf['geometry'].apply(wkt.loads)\n",
    "gdf = gpd.GeoDataFrame(gdf, geometry='geometry')\n",
    "gdf.set_crs(epsg=2056, inplace=True)\n",
    "gdf.set_index(\"idx\", inplace=True)\n",
    "\n",
    "gdf.head()"
   ]
  },
  {
   "cell_type": "code",
   "execution_count": 3,
   "metadata": {},
   "outputs": [],
   "source": [
    "gdf['x'] = None\n",
    "gdf['y'] = None\n",
    "\n",
    "for idx, row in gdf.iterrows():\n",
    "    polygon = row['geometry']\n",
    "    x, y = polygon.exterior.xy\n",
    "    gdf.at[idx, 'x'] = x[0]\n",
    "    gdf.at[idx, 'y'] = y[0]\n"
   ]
  },
  {
   "cell_type": "code",
   "execution_count": 4,
   "metadata": {},
   "outputs": [],
   "source": [
    "# Affecte les bons type aux colonnes\n",
    "gdf['Altitude'] = gdf['Altitude'].astype(float)\n",
    "gdf['NaturalHabitat'] = gdf['NaturalHabitat'].astype(float)\n",
    "gdf['WaterRetention'] = gdf['WaterRetention'].astype(float)\n",
    "gdf['NutrientContent'] = gdf['NutrientContent'].astype(float)\n",
    "gdf['WaterPermeability'] = gdf['WaterPermeability'].astype(float)\n",
    "gdf['Temperature'] = gdf['Temperature'].astype(float)\n",
    "\n",
    "# Drop the geometry column\n",
    "gdf = gdf.drop(columns=['geometry'])"
   ]
  },
  {
   "cell_type": "code",
   "execution_count": 5,
   "metadata": {},
   "outputs": [],
   "source": [
    "# Étape 1 : Fractionner les chaînes de caractères en listes\n",
    "gdf['SoilType_split'] = gdf['SoilType'].str.split('; ')\n",
    "\n",
    "# Étape 2 : Identifier tous les mots uniques\n",
    "all_labels = set(label.strip() for sublist in gdf['SoilType_split'] for label in sublist)\n",
    "\n",
    "# Étape 3 : Créer des colonnes dummies\n",
    "for label in all_labels:\n",
    "    gdf[\"SoilType_\"+label] = gdf['SoilType_split'].apply(lambda x: label in x)\n",
    "\n",
    "# Supprimer la colonne temporaire si nécessaire\n",
    "gdf = gdf.drop(columns=['SoilType_split'])\n",
    "gdf = gdf.drop(columns=['SoilType'])"
   ]
  },
  {
   "cell_type": "code",
   "execution_count": 6,
   "metadata": {},
   "outputs": [],
   "source": [
    "# Dummies NaturalHabitat, WaterRetention, NutrientContent et WaterPermeability\n",
    "gdf = pd.get_dummies(gdf, columns=['NaturalHabitat', 'WaterRetention', 'NutrientContent', 'WaterPermeability'])"
   ]
  },
  {
   "cell_type": "code",
   "execution_count": 7,
   "metadata": {},
   "outputs": [],
   "source": [
    "# Normalisation des données numériques\n",
    "\n",
    "scaler = StandardScaler()\n",
    "\n",
    "gdf[['Altitude', 'x', 'y', 'Temperature']] = scaler.fit_transform(gdf[['Altitude', 'x', 'y', 'Temperature']])"
   ]
  },
  {
   "cell_type": "code",
   "execution_count": 8,
   "metadata": {},
   "outputs": [],
   "source": [
    "#Remove x and y columns\n",
    "gdfWithoutCoordinate = gdf.drop(columns=['x', 'y'])"
   ]
  },
  {
   "cell_type": "code",
   "execution_count": 9,
   "metadata": {},
   "outputs": [
    {
     "data": {
      "text/plain": [
       "(42417, 92)"
      ]
     },
     "execution_count": 9,
     "metadata": {},
     "output_type": "execute_result"
    }
   ],
   "source": [
    "gdf.shape"
   ]
  },
  {
   "cell_type": "code",
   "execution_count": 10,
   "metadata": {},
   "outputs": [],
   "source": [
    "scaler = StandardScaler()\n",
    "data_scaled = scaler.fit_transform(gdfWithoutCoordinate)"
   ]
  },
  {
   "cell_type": "code",
   "execution_count": 11,
   "metadata": {},
   "outputs": [],
   "source": [
    "som = SOM(m=25, n=25, dim=data_scaled.shape[1], lr=0.6, max_iter=2000, random_state=420)\n",
    "som.fit(data_scaled) "
   ]
  },
  {
   "cell_type": "code",
   "execution_count": 12,
   "metadata": {},
   "outputs": [
    {
     "data": {
      "image/png": "[encoded data removed]",
      "text/plain": [
       "<Figure size 640x480 with 2 Axes>"
      ]
     },
     "metadata": {},
     "output_type": "display_data"
    }
   ],
   "source": [
    "def plot_u_matrix(som):\n",
    "    umatrix = np.zeros((som.m, som.n))\n",
    "    for i in range(som.m):\n",
    "        for j in range(som.n):\n",
    "            # Calculate distances to neighbors\n",
    "            neighbors = []\n",
    "            if i > 0: neighbors.append(som.weights[i-1, j])\n",
    "            if i < som.m-1: neighbors.append(som.weights[i+1, j])\n",
    "            if j > 0: neighbors.append(som.weights[i, j-1])\n",
    "            if j < som.n-1: neighbors.append(som.weights[i, j+1])\n",
    "            # Average distance to neighbors\n",
    "            umatrix[i, j] = np.mean([np.linalg.norm(som.weights[i, j] - n) for n in neighbors])\n",
    "\n",
    "    # Plot as heatmap\n",
    "    plt.imshow(umatrix, cmap='viridis')\n",
    "    plt.colorbar(label='Distance')\n",
    "    plt.title('U-Matrix')\n",
    "    plt.show()\n",
    "\n",
    "# Call the function\n",
    "plot_u_matrix(som)"
   ]
  },
  {
   "cell_type": "code",
   "execution_count": 13,
   "metadata": {},
   "outputs": [
    {
     "data": {
      "text/plain": [
       "(625, 90)"
      ]
     },
     "execution_count": 13,
     "metadata": {},
     "output_type": "execute_result"
    }
   ],
   "source": [
    "som.weights.shape"
   ]
  },
  {
   "cell_type": "code",
   "execution_count": 14,
   "metadata": {},
   "outputs": [
    {
     "data": {
      "text/plain": [
       "<matplotlib.image.AxesImage at 0x2647a9c2cc0>"
      ]
     },
     "execution_count": 14,
     "metadata": {},
     "output_type": "execute_result"
    },
    {
     "data": {
      "image/png": "[encoded data removed]",
      "text/plain": [
       "<Figure size 640x480 with 1 Axes>"
      ]
     },
     "metadata": {},
     "output_type": "display_data"
    }
   ],
   "source": [
    "plt.imshow(np.reshape(som.weights[:,0], (25, 25)))"
   ]
  },
  {
   "cell_type": "code",
   "execution_count": 15,
   "metadata": {},
   "outputs": [
    {
     "data": {
      "image/png": "[encoded data removed]",
      "text/plain": [
       "<Figure size 640x480 with 2 Axes>"
      ]
     },
     "metadata": {},
     "output_type": "display_data"
    }
   ],
   "source": [
    "# Compute the average weights across all features\n",
    "average_weights = np.mean(som.weights, axis=1)\n",
    "\n",
    "# Reshape the average weights to the SOM grid shape\n",
    "average_weights_reshaped = np.reshape(average_weights, (25, 25))\n",
    "\n",
    "# Plot the average map\n",
    "plt.imshow(average_weights_reshaped, cmap='viridis')\n",
    "plt.colorbar(label='Average Weight')\n",
    "plt.title('Average SOM Weight Map')\n",
    "plt.show()"
   ]
  },
  {
   "cell_type": "markdown",
   "metadata": {},
   "source": [
    "La carte auto-organisatrice n'arrive pas à séparer nos données correctement"
   ]
  }
 ],
 "metadata": {
  "kernelspec": {
   "display_name": "GML",
   "language": "python",
   "name": "gml"
  },
  "language_info": {
   "codemirror_mode": {
    "name": "ipython",
    "version": 3
   },
   "file_extension": ".py",
   "mimetype": "text/x-python",
   "name": "python",
   "nbconvert_exporter": "python",
   "pygments_lexer": "ipython3",
   "version": "3.12.7"
  }
 },
 "nbformat": 4,
 "nbformat_minor": 4
}
